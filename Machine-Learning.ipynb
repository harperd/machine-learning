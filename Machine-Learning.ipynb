{
 "cells": [
  {
   "cell_type": "markdown",
   "metadata": {},
   "source": [
    "# Machine Learning By Example"
   ]
  },
  {
   "cell_type": "markdown",
   "metadata": {},
   "source": [
    "The first thing we want to do is import the basic Python packages such as *NumP*, *Matplotlib* and *Pandas*."
   ]
  },
  {
   "cell_type": "code",
   "execution_count": 1,
   "metadata": {},
   "outputs": [],
   "source": [
    "# NumPy adds support for large, multi-dimensional arrays and matrices, along with a large collection \n",
    "# of high-level mathematical functions to operate on these arrays.\n",
    "import numpy as np\n",
    "\n",
    "# Matplotlib is a plotting library for the Python programming language and its numerical mathematics \n",
    "# extension NumPy. It provides an object-oriented API for embedding plots into applications using \n",
    "# general-purpose GUI toolkits like Tkinter, wxPython, Qt, or GTK+.\n",
    "import matplotlib.pyplot as plt\n",
    "\n",
    "# Pandas is a software library for data manipulation and analysis. In particular, it offers data \n",
    "# structures and operations for manipulating numerical tables and time series.\n",
    "import pandas as pd"
   ]
  },
  {
   "cell_type": "markdown",
   "metadata": {},
   "source": [
    "# Configuration\n",
    "\n",
    "Configure the data file that will used in this interactive tutorial. For now, this tutorial expects a CSV file but can easily be up dated to accomodate other data sources and file formats."
   ]
  },
  {
   "cell_type": "code",
   "execution_count": 4,
   "metadata": {},
   "outputs": [],
   "source": [
    "data_file    = 'cardiacData.csv'\n",
    "features     = [ 'HR', 'Att', 'STE', 'Age', 'Outcome' ]\n",
    "data_header  = -1\n",
    "# data_file    = 'https://raw.githubusercontent.com/jbrownlee/Datasets/master/pima-indians-diabetes.data.csv'\n",
    "# data_header  = None\n",
    "#features     = [ 'preg', 'plas', 'pres', 'skin', 'test', 'mass', 'pedi', 'age', 'class' ]"
   ]
  },
  {
   "cell_type": "markdown",
   "metadata": {},
   "source": [
    "# Import Data\n",
    "\n",
    "Here we import the data into a Pandas _Data Frame_ which will be used to process going forward."
   ]
  },
  {
   "cell_type": "code",
   "execution_count": 12,
   "metadata": {},
   "outputs": [
    {
     "data": {
      "text/html": [
       "<div>\n",
       "<style scoped>\n",
       "    .dataframe tbody tr th:only-of-type {\n",
       "        vertical-align: middle;\n",
       "    }\n",
       "\n",
       "    .dataframe tbody tr th {\n",
       "        vertical-align: top;\n",
       "    }\n",
       "\n",
       "    .dataframe thead th {\n",
       "        text-align: right;\n",
       "    }\n",
       "</style>\n",
       "<table border=\"1\" class=\"dataframe\">\n",
       "  <thead>\n",
       "    <tr style=\"text-align: right;\">\n",
       "      <th></th>\n",
       "      <th>HR</th>\n",
       "      <th>Att</th>\n",
       "      <th>STE</th>\n",
       "      <th>Age</th>\n",
       "      <th>Outcome</th>\n",
       "    </tr>\n",
       "  </thead>\n",
       "  <tbody>\n",
       "    <tr>\n",
       "      <th>0</th>\n",
       "      <td>84</td>\n",
       "      <td>0</td>\n",
       "      <td>55</td>\n",
       "      <td>0</td>\n",
       "      <td>0</td>\n",
       "    </tr>\n",
       "    <tr>\n",
       "      <th>1</th>\n",
       "      <td>76</td>\n",
       "      <td>0</td>\n",
       "      <td>80</td>\n",
       "      <td>0</td>\n",
       "      <td>0</td>\n",
       "    </tr>\n",
       "    <tr>\n",
       "      <th>2</th>\n",
       "      <td>50</td>\n",
       "      <td>0</td>\n",
       "      <td>80</td>\n",
       "      <td>0</td>\n",
       "      <td>0</td>\n",
       "    </tr>\n",
       "    <tr>\n",
       "      <th>3</th>\n",
       "      <td>60</td>\n",
       "      <td>0</td>\n",
       "      <td>44</td>\n",
       "      <td>0</td>\n",
       "      <td>0</td>\n",
       "    </tr>\n",
       "    <tr>\n",
       "      <th>4</th>\n",
       "      <td>106</td>\n",
       "      <td>0</td>\n",
       "      <td>77</td>\n",
       "      <td>1</td>\n",
       "      <td>0</td>\n",
       "    </tr>\n",
       "  </tbody>\n",
       "</table>\n",
       "</div>"
      ],
      "text/plain": [
       "    HR  Att  STE  Age  Outcome\n",
       "0   84    0   55    0        0\n",
       "1   76    0   80    0        0\n",
       "2   50    0   80    0        0\n",
       "3   60    0   44    0        0\n",
       "4  106    0   77    1        0"
      ]
     },
     "execution_count": 12,
     "metadata": {},
     "output_type": "execute_result"
    }
   ],
   "source": [
    "file_data = pd.read_csv(data_file, header = data_header, names = features)\n",
    "df = pd.DataFrame(file_data)\n",
    "df.head()"
   ]
  },
  {
   "cell_type": "markdown",
   "metadata": {},
   "source": [
    "# Understanding The Data"
   ]
  },
  {
   "cell_type": "markdown",
   "metadata": {},
   "source": [
    "## File Metadata\n",
    "\n",
    "Looking at the data types int he file will help us understand the file format. If we notice a column or *Feature*, that we want to include in our data set that is non-numeric, for example, we will want to convert that to a numeric data type when we begin *Feature Engineering* (pre-processing our data)."
   ]
  },
  {
   "cell_type": "code",
   "execution_count": 9,
   "metadata": {
    "scrolled": false
   },
   "outputs": [
    {
     "data": {
      "text/plain": [
       "HR         int64\n",
       "Att        int64\n",
       "STE        int64\n",
       "Age        int64\n",
       "Outcome    int64\n",
       "dtype: object"
      ]
     },
     "execution_count": 9,
     "metadata": {},
     "output_type": "execute_result"
    }
   ],
   "source": [
    "df.dtypes"
   ]
  },
  {
   "cell_type": "markdown",
   "metadata": {},
   "source": [
    "## Data Sample"
   ]
  },
  {
   "cell_type": "code",
   "execution_count": 10,
   "metadata": {},
   "outputs": [
    {
     "data": {
      "text/html": [
       "<div>\n",
       "<style scoped>\n",
       "    .dataframe tbody tr th:only-of-type {\n",
       "        vertical-align: middle;\n",
       "    }\n",
       "\n",
       "    .dataframe tbody tr th {\n",
       "        vertical-align: top;\n",
       "    }\n",
       "\n",
       "    .dataframe thead th {\n",
       "        text-align: right;\n",
       "    }\n",
       "</style>\n",
       "<table border=\"1\" class=\"dataframe\">\n",
       "  <thead>\n",
       "    <tr style=\"text-align: right;\">\n",
       "      <th></th>\n",
       "      <th>HR</th>\n",
       "      <th>Att</th>\n",
       "      <th>STE</th>\n",
       "      <th>Age</th>\n",
       "      <th>Outcome</th>\n",
       "    </tr>\n",
       "  </thead>\n",
       "  <tbody>\n",
       "    <tr>\n",
       "      <th>0</th>\n",
       "      <td>84</td>\n",
       "      <td>0</td>\n",
       "      <td>55</td>\n",
       "      <td>0</td>\n",
       "      <td>0</td>\n",
       "    </tr>\n",
       "    <tr>\n",
       "      <th>1</th>\n",
       "      <td>76</td>\n",
       "      <td>0</td>\n",
       "      <td>80</td>\n",
       "      <td>0</td>\n",
       "      <td>0</td>\n",
       "    </tr>\n",
       "    <tr>\n",
       "      <th>...</th>\n",
       "      <td>...</td>\n",
       "      <td>...</td>\n",
       "      <td>...</td>\n",
       "      <td>...</td>\n",
       "      <td>...</td>\n",
       "    </tr>\n",
       "    <tr>\n",
       "      <th>248</th>\n",
       "      <td>71</td>\n",
       "      <td>0</td>\n",
       "      <td>68</td>\n",
       "      <td>0</td>\n",
       "      <td>0</td>\n",
       "    </tr>\n",
       "    <tr>\n",
       "      <th>249</th>\n",
       "      <td>73</td>\n",
       "      <td>0</td>\n",
       "      <td>49</td>\n",
       "      <td>1</td>\n",
       "      <td>0</td>\n",
       "    </tr>\n",
       "  </tbody>\n",
       "</table>\n",
       "<p>250 rows × 5 columns</p>\n",
       "</div>"
      ],
      "text/plain": [
       "     HR  Att  STE  Age  Outcome\n",
       "0    84    0   55    0        0\n",
       "1    76    0   80    0        0\n",
       "..   ..  ...  ...  ...      ...\n",
       "248  71    0   68    0        0\n",
       "249  73    0   49    1        0\n",
       "\n",
       "[250 rows x 5 columns]"
      ]
     },
     "execution_count": 10,
     "metadata": {},
     "output_type": "execute_result"
    }
   ],
   "source": [
    "pd.set_option('display.max_rows', 5)\n",
    "df"
   ]
  },
  {
   "cell_type": "markdown",
   "metadata": {},
   "source": [
    "## Describing the Data\n",
    "\n",
    "Describing the data will show any values that have a range outside of the normal distribution. These can be standardized using a *Z-Score* for example."
   ]
  },
  {
   "cell_type": "code",
   "execution_count": 11,
   "metadata": {},
   "outputs": [
    {
     "data": {
      "text/html": [
       "<div>\n",
       "<style scoped>\n",
       "    .dataframe tbody tr th:only-of-type {\n",
       "        vertical-align: middle;\n",
       "    }\n",
       "\n",
       "    .dataframe tbody tr th {\n",
       "        vertical-align: top;\n",
       "    }\n",
       "\n",
       "    .dataframe thead th {\n",
       "        text-align: right;\n",
       "    }\n",
       "</style>\n",
       "<table border=\"1\" class=\"dataframe\">\n",
       "  <thead>\n",
       "    <tr style=\"text-align: right;\">\n",
       "      <th></th>\n",
       "      <th>HR</th>\n",
       "      <th>Att</th>\n",
       "      <th>STE</th>\n",
       "      <th>Age</th>\n",
       "      <th>Outcome</th>\n",
       "    </tr>\n",
       "  </thead>\n",
       "  <tbody>\n",
       "    <tr>\n",
       "      <th>count</th>\n",
       "      <td>250.000000</td>\n",
       "      <td>250.000000</td>\n",
       "      <td>250.000000</td>\n",
       "      <td>250.000000</td>\n",
       "      <td>250.000000</td>\n",
       "    </tr>\n",
       "    <tr>\n",
       "      <th>mean</th>\n",
       "      <td>70.008000</td>\n",
       "      <td>0.104000</td>\n",
       "      <td>65.548000</td>\n",
       "      <td>0.360000</td>\n",
       "      <td>0.332000</td>\n",
       "    </tr>\n",
       "    <tr>\n",
       "      <th>std</th>\n",
       "      <td>14.472795</td>\n",
       "      <td>0.305873</td>\n",
       "      <td>14.091486</td>\n",
       "      <td>0.513278</td>\n",
       "      <td>0.471876</td>\n",
       "    </tr>\n",
       "    <tr>\n",
       "      <th>min</th>\n",
       "      <td>26.000000</td>\n",
       "      <td>0.000000</td>\n",
       "      <td>23.000000</td>\n",
       "      <td>0.000000</td>\n",
       "      <td>0.000000</td>\n",
       "    </tr>\n",
       "    <tr>\n",
       "      <th>25%</th>\n",
       "      <td>61.000000</td>\n",
       "      <td>0.000000</td>\n",
       "      <td>55.250000</td>\n",
       "      <td>0.000000</td>\n",
       "      <td>0.000000</td>\n",
       "    </tr>\n",
       "    <tr>\n",
       "      <th>50%</th>\n",
       "      <td>70.000000</td>\n",
       "      <td>0.000000</td>\n",
       "      <td>67.000000</td>\n",
       "      <td>0.000000</td>\n",
       "      <td>0.000000</td>\n",
       "    </tr>\n",
       "    <tr>\n",
       "      <th>75%</th>\n",
       "      <td>78.000000</td>\n",
       "      <td>0.000000</td>\n",
       "      <td>76.000000</td>\n",
       "      <td>1.000000</td>\n",
       "      <td>1.000000</td>\n",
       "    </tr>\n",
       "    <tr>\n",
       "      <th>max</th>\n",
       "      <td>110.000000</td>\n",
       "      <td>1.000000</td>\n",
       "      <td>99.000000</td>\n",
       "      <td>2.000000</td>\n",
       "      <td>1.000000</td>\n",
       "    </tr>\n",
       "  </tbody>\n",
       "</table>\n",
       "</div>"
      ],
      "text/plain": [
       "               HR         Att         STE         Age     Outcome\n",
       "count  250.000000  250.000000  250.000000  250.000000  250.000000\n",
       "mean    70.008000    0.104000   65.548000    0.360000    0.332000\n",
       "std     14.472795    0.305873   14.091486    0.513278    0.471876\n",
       "min     26.000000    0.000000   23.000000    0.000000    0.000000\n",
       "25%     61.000000    0.000000   55.250000    0.000000    0.000000\n",
       "50%     70.000000    0.000000   67.000000    0.000000    0.000000\n",
       "75%     78.000000    0.000000   76.000000    1.000000    1.000000\n",
       "max    110.000000    1.000000   99.000000    2.000000    1.000000"
      ]
     },
     "execution_count": 11,
     "metadata": {},
     "output_type": "execute_result"
    }
   ],
   "source": [
    "# Reset max_rows to all rows\n",
    "pd.set_option('display.max_rows', None)\n",
    "df.describe()"
   ]
  },
  {
   "cell_type": "markdown",
   "metadata": {},
   "source": [
    "# Visualizing the Data"
   ]
  },
  {
   "cell_type": "markdown",
   "metadata": {},
   "source": [
    "Visualizing the data is key to helping understand the makeup of the data and it's attributes (Feature Vectors). This helps to find ways to tune the model as well as outliers or data that may need standardized."
   ]
  },
  {
   "cell_type": "markdown",
   "metadata": {},
   "source": [
    "## Histograms"
   ]
  },
  {
   "cell_type": "markdown",
   "metadata": {},
   "source": [
    "A fast way to get an idea of the shape of the data, which is to say, the distribution (or density) of each *feature* is to look at histograms.\n",
    "\n",
    "Histograms represent the distribution of a continuous variable (*feature* in this case) over a given interval or period of time. Histograms plot the data by dividing it into intervals called *bins*. It is used to inspect the underlying frequency distribution or shape of the data Gaussian (eg. Normal distribution), outliers, skewness, etc. \n",
    "\n",
    "[Types of distributions](https://www.analyticsvidhya.com/blog/2017/09/6-probability-distributions-data-science/)\n",
    "\n",
    "**_TIP_**: Guassian distributions are preferred to work with since data tends to cluster at a given point.\n",
    "\n",
    "**Choosing a Bin Number**\n",
    "\n",
    "Setting bins to a higher or lower number will yeild denser or sparser results. The choice of bin width significantly affects the resulting plot. Smaller binwidths can make the plot cluttered, but larger binwidths may obscure nuances in the data.\n",
    "\n",
    "*Matplotlib* will automatically choose a reasonable binwidth for you, but you can specify the binwidth yourself after trying out several values. There is no true right or wrong answer, you just have to try different bin values and see which works best for your particular data.\n",
    "\n",
    "**_TIP_**: If you have a small amount of data, use wider bins to eliminate noise. If you have a lot of data, use narrower bins because the histogram will not be that noisy."
   ]
  },
  {
   "cell_type": "code",
   "execution_count": null,
   "metadata": {
    "scrolled": false
   },
   "outputs": [],
   "source": [
    "# Using the Data Frame we will produce histograms of each attribute\n",
    "# with an optional specified number of bins. Matplotlib will automatically\n",
    "# choose a reasonable binwidth for you if set to None.\n",
    "df.hist(histtype = 'bar', bins = 10)\n",
    "plt.subplots_adjust(left = 3, bottom = 10, right = 5, top = 12, wspace = None, hspace = None)\n",
    "plt.show()"
   ]
  },
  {
   "cell_type": "markdown",
   "metadata": {},
   "source": [
    "## Density Plots\n",
    "\n",
    "There is also another, often clearer, way to grasp the distribution: density plots or, more formally, *Kernel Density Plots*. They can be considered a smoothed version of the histogram. Their main advantage over the latter is that they do not depend on the size of the bins. "
   ]
  },
  {
   "cell_type": "code",
   "execution_count": null,
   "metadata": {},
   "outputs": [],
   "source": [
    "df[features].plot(\n",
    "    kind = 'density', \n",
    "    # A tuple (rows, columns) for the layout of subplots.\n",
    "    layout = (len(features), 2), \n",
    "    # A tuple (width, height) in inches.\n",
    "    figsize = (20, 30), \n",
    "    # Make separate subplots for each column.\n",
    "    subplots = True, \n",
    "    # In case subplots=True, share x axis and set some x axis labels to invisible; \n",
    "    # defaults to True if ax is None otherwise False if an ax is passed in; Be aware, \n",
    "    # that passing in both an ax and sharex=True will alter all x axis labels for \n",
    "    # all axis in a figure!\n",
    "    sharex = False)"
   ]
  },
  {
   "cell_type": "markdown",
   "metadata": {},
   "source": [
    "## Box-And-Whisker Plot"
   ]
  },
  {
   "cell_type": "code",
   "execution_count": null,
   "metadata": {},
   "outputs": [],
   "source": [
    "df.plot(\n",
    "    kind = 'box',\n",
    "    # A tuple (rows, columns) for the layout of subplots.\n",
    "    layout = (len(features), 5), \n",
    "    # A tuple (width, height) in inches.\n",
    "    figsize = (20, 30), \n",
    "    # Make separate subplots for each column.\n",
    "    subplots = True, \n",
    "    # In case subplots=True, share x axis and set some x axis labels to invisible; \n",
    "    # defaults to True if ax is None otherwise False if an ax is passed in; Be aware, \n",
    "    # that passing in both an ax and sharex=True will alter all x axis labels for \n",
    "    # all axis in a figure!\n",
    "    sharex = False)\n",
    "plt.show()"
   ]
  },
  {
   "cell_type": "markdown",
   "metadata": {},
   "source": [
    "## Scatter Matrix"
   ]
  },
  {
   "cell_type": "code",
   "execution_count": null,
   "metadata": {},
   "outputs": [],
   "source": [
    "from pandas.plotting import scatter_matrix\n",
    "scatter_matrix(df)\n",
    "plt.subplots_adjust(left = 3, right = 5, top = 12, bottom = 10, wspace = None, hspace = None)"
   ]
  },
  {
   "cell_type": "markdown",
   "metadata": {},
   "source": [
    "# Feature Engineering"
   ]
  },
  {
   "cell_type": "markdown",
   "metadata": {},
   "source": [
    "# Clustering\n",
    "\n",
    "Clustering, in Machine Learning, is the assignment of a set of observations into subsets (called clusters) so that observations in the same cluster are similar in some sense. Clustering is a method of unsupervised learning, and a common technique for statistical data analysis used in many fields. Clustering is an optimization problem. Need to identify the best cluster of Features. \n",
    "\n",
    "When given unlabeled data we need to try and find clusters of examples near each other.\n",
    "When given labeled data we need identify the mathematical service that best separates the labeled examples. However, this is subject to constraints to avoid overfitting. \n",
    "\n",
    "Learned models (clusters) will depend on certain constraints:\n",
    "\n",
    "* The distance metric between examples (Minkowski + Linkage)\n",
    "* Choice of Feature vectors\n",
    "* Constraints on the complexity of the model to avoid overfitting (each Example is its own cluster):\n",
    "* The specified number of clusters (k)\n",
    "* Complexity of the separating surface"
   ]
  },
  {
   "cell_type": "markdown",
   "metadata": {},
   "source": [
    "# K-Means Clustering\n",
    "\n",
    "*K-Means* is an unsupervised machine learning algorithm (data is labeled) that groups a dataset into a user-specified number of clusters. This algorithm is somewhat naive as it clusters the data into a user specified k clusters, even if k is not the right number of clusters to use. Therefore, it is sometimes a challenge to find the optimal value for k. An optimial k is one where increasing k doesn't give much better model of the data.\n",
    "\n",
    "## Finding K\n",
    "\n",
    "There are different ways to choose a number of clusters (k):\n",
    "\n",
    "* Have a priori knowledge about the application domain.\n",
    "* Use Hierarchical clustering on a subset of data.\n",
    "* Try different values of k and evaluate quality of results (dissimilarity).\n",
    "* Using algorithms such as Elbow"
   ]
  },
  {
   "cell_type": "markdown",
   "metadata": {},
   "source": [
    "###  Elbow Method (Sum of Squared Errors)\n",
    "\n",
    "This method looks at the percentage of variance explained as a function of the number of clusters. Achieving this yeilds and optimal value for k.\n",
    "\n",
    "The idea of the elbow method is to run K-Means clustering on the dataset for a range of values of k (k from 1 to 10 for example). Then, for each value of k, calculate the *Sum of Squared Errors (SSE)* or *Within Cluster Sum of Squares (WCSS)*.\n",
    "\n",
    "The smaller the SSE the better and the SSE tends to decrease toward 0 as we increase k. When SSE is 0 then k is equal to the number of data points (or *Examples*) in the dataset. This is because each data point is its own cluster (*Over Fitting*), and there is no error between it and the center of its cluster. So the goal is to choose a small value of k that still has a low SSE. The elbow usually represents where we start to have diminishing returns by increasing k."
   ]
  },
  {
   "cell_type": "code",
   "execution_count": null,
   "metadata": {},
   "outputs": [],
   "source": [
    "from sklearn.cluster import KMeans\n",
    "\n",
    "wcss = []\n",
    "samples = 10\n",
    "\n",
    "# Try different values for k and record the results.\n",
    "for k in range(1, samples):\n",
    "    kmeans = KMeans(k, init = 'k-means++', max_iter = 300, n_init = 10, random_state = 0)\n",
    "    kmeans.fit(df)\n",
    "    # interia_ is the sum of squared distances of samples \n",
    "    # to their closest cluster center.\n",
    "    wcss.append(kmeans.inertia_)\n",
    "    \n",
    "# Plotting the results onto a line graph, allowing us to observe 'The elbow'\n",
    "plt.plot(range(1, samples), wcss)\n",
    "plt.title('Elbow Method')\n",
    "plt.xlabel('Number of Clusters K')\n",
    "plt.ylabel('SSE')\n",
    "plt.show()"
   ]
  },
  {
   "cell_type": "markdown",
   "metadata": {},
   "source": [
    "# Measuring Model Accuracy"
   ]
  },
  {
   "cell_type": "code",
   "execution_count": null,
   "metadata": {},
   "outputs": [],
   "source": []
  }
 ],
 "metadata": {
  "kernelspec": {
   "display_name": "Python 3",
   "language": "python",
   "name": "python3"
  },
  "language_info": {
   "codemirror_mode": {
    "name": "ipython",
    "version": 3
   },
   "file_extension": ".py",
   "mimetype": "text/x-python",
   "name": "python",
   "nbconvert_exporter": "python",
   "pygments_lexer": "ipython3",
   "version": "3.7.1"
  }
 },
 "nbformat": 4,
 "nbformat_minor": 2
}
