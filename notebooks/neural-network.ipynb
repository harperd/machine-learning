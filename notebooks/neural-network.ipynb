{
  "nbformat": 4,
  "nbformat_minor": 0,
  "metadata": {
    "colab": {
      "name": "neural-network.ipynb",
      "provenance": [],
      "include_colab_link": true
    },
    "kernelspec": {
      "name": "python3",
      "display_name": "Python 3"
    }
  },
  "cells": [
    {
      "cell_type": "markdown",
      "metadata": {
        "id": "view-in-github",
        "colab_type": "text"
      },
      "source": [
        "<a href=\"https://colab.research.google.com/github/harperd/machine-learning/blob/master/notebooks/neural-network.ipynb\" target=\"_parent\"><img src=\"https://colab.research.google.com/assets/colab-badge.svg\" alt=\"Open In Colab\"/></a>"
      ]
    },
    {
      "cell_type": "markdown",
      "metadata": {
        "id": "e5W_m8eLzbkR",
        "colab_type": "text"
      },
      "source": [
        "# Neural Network\n",
        "\n",
        "Create a neural network to recognize hand-written digits (0 to 9)."
      ]
    },
    {
      "cell_type": "code",
      "metadata": {
        "id": "26Tg0d96zKfM",
        "colab_type": "code",
        "colab": {}
      },
      "source": [
        "import numpy as np\n",
        "import pandas as pd\n",
        "import matplotlib.pyplot as plt\n",
        "import matplotlib.style as style\n",
        "import google.colab as colab\n",
        "\n",
        "from sklearn.preprocessing import OneHotEncoder\n",
        "from scipy.io import loadmat\n",
        "\n",
        "# Allow saving our graphs in the notebook\n",
        "%matplotlib inline\n",
        "\n",
        "style.use('dark_background')"
      ],
      "execution_count": 0,
      "outputs": []
    },
    {
      "cell_type": "code",
      "metadata": {
        "id": "jBxKbHcT0IGD",
        "colab_type": "code",
        "outputId": "8e28f3f6-8860-4356-e318-56efad4936b2",
        "colab": {
          "resources": {
            "http://localhost:8080/nbextensions/google.colab/files.js": {
              "data": "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",
              "ok": true,
              "headers": [
                [
                  "content-type",
                  "application/javascript"
                ]
              ],
              "status": 200,
              "status_text": ""
            }
          },
          "base_uri": "https://localhost:8080/",
          "height": 146
        }
      },
      "source": [
        "mat_file = colab.files.upload()\n",
        "!ls -l"
      ],
      "execution_count": 0,
      "outputs": [
        {
          "output_type": "display_data",
          "data": {
            "text/html": [
              "\n",
              "     <input type=\"file\" id=\"files-bc0d4fdc-0719-4cf0-bf53-43ef504371ab\" name=\"files[]\" multiple disabled />\n",
              "     <output id=\"result-bc0d4fdc-0719-4cf0-bf53-43ef504371ab\">\n",
              "      Upload widget is only available when the cell has been executed in the\n",
              "      current browser session. Please rerun this cell to enable.\n",
              "      </output>\n",
              "      <script src=\"/nbextensions/google.colab/files.js\"></script> "
            ],
            "text/plain": [
              "<IPython.core.display.HTML object>"
            ]
          },
          "metadata": {
            "tags": []
          }
        },
        {
          "output_type": "stream",
          "text": [
            "Saving ex3data1.mat to ex3data1.mat\n",
            "total 14676\n",
            "-rw-r--r-- 1 root root 7511764 Jan  3 20:29 ex3data1.mat\n",
            "-rw-r--r-- 1 root root 7511764 Jan  3 19:50 ex4data1.mat\n",
            "drwxr-xr-x 1 root root    4096 Dec 18 16:52 sample_data\n"
          ],
          "name": "stdout"
        }
      ]
    },
    {
      "cell_type": "code",
      "metadata": {
        "id": "rwHKY8e30XnW",
        "colab_type": "code",
        "outputId": "9c553629-0352-438e-fa83-7fb9dc192018",
        "colab": {
          "base_uri": "https://localhost:8080/",
          "height": 316
        }
      },
      "source": [
        "mat_data = loadmat('ex4data1.mat')\n",
        "mat_data"
      ],
      "execution_count": 4,
      "outputs": [
        {
          "output_type": "execute_result",
          "data": {
            "text/plain": [
              "{'X': array([[0., 0., 0., ..., 0., 0., 0.],\n",
              "        [0., 0., 0., ..., 0., 0., 0.],\n",
              "        [0., 0., 0., ..., 0., 0., 0.],\n",
              "        ...,\n",
              "        [0., 0., 0., ..., 0., 0., 0.],\n",
              "        [0., 0., 0., ..., 0., 0., 0.],\n",
              "        [0., 0., 0., ..., 0., 0., 0.]]),\n",
              " '__globals__': [],\n",
              " '__header__': b'MATLAB 5.0 MAT-file, Platform: GLNXA64, Created on: Sun Oct 16 13:09:09 2011',\n",
              " '__version__': '1.0',\n",
              " 'y': array([[10],\n",
              "        [10],\n",
              "        [10],\n",
              "        ...,\n",
              "        [ 9],\n",
              "        [ 9],\n",
              "        [ 9]], dtype=uint8)}"
            ]
          },
          "metadata": {
            "tags": []
          },
          "execution_count": 4
        }
      ]
    },
    {
      "cell_type": "code",
      "metadata": {
        "id": "-TvB6mmL0bPf",
        "colab_type": "code",
        "outputId": "3c03f78b-c7fb-4a6d-e6bf-e0ea0b575743",
        "colab": {
          "base_uri": "https://localhost:8080/",
          "height": 334
        }
      },
      "source": [
        "X = mat_data['X']\n",
        "y = mat_data['y']\n",
        "\n",
        "print(f'X Shape: {X.shape}')\n",
        "print(f'y Shape: {y.shape}')\n",
        "print()\n",
        "print(f'X = {X}')\n",
        "print()\n",
        "print(f'y = {y}')"
      ],
      "execution_count": 5,
      "outputs": [
        {
          "output_type": "stream",
          "text": [
            "X Shape: (5000, 400)\n",
            "y Shape: (5000, 1)\n",
            "\n",
            "X = [[0. 0. 0. ... 0. 0. 0.]\n",
            " [0. 0. 0. ... 0. 0. 0.]\n",
            " [0. 0. 0. ... 0. 0. 0.]\n",
            " ...\n",
            " [0. 0. 0. ... 0. 0. 0.]\n",
            " [0. 0. 0. ... 0. 0. 0.]\n",
            " [0. 0. 0. ... 0. 0. 0.]]\n",
            "\n",
            "y = [[10]\n",
            " [10]\n",
            " [10]\n",
            " ...\n",
            " [ 9]\n",
            " [ 9]\n",
            " [ 9]]\n"
          ],
          "name": "stdout"
        }
      ]
    },
    {
      "cell_type": "markdown",
      "metadata": {
        "id": "6kAIwxuR0e3K",
        "colab_type": "text"
      },
      "source": [
        "![Hand written numbers](https://github.com/harperd/machine-learning/blob/master/images/ex3-1.png?raw=1)"
      ]
    },
    {
      "cell_type": "code",
      "metadata": {
        "id": "5hgs8DlUU4IH",
        "colab_type": "code",
        "outputId": "8302098d-150d-45ce-9711-b7dfbce20420",
        "colab": {
          "base_uri": "https://localhost:8080/",
          "height": 193
        }
      },
      "source": [
        "# Create a scikit-learn One-Hot encoder.\n",
        "encoder = OneHotEncoder(\n",
        "    # Will return sparse matrix ( matrix in which most of the elements are zero)\n",
        "    # if set True else will return an array.\n",
        "    sparse=False,\n",
        "    # Auto determines categories automatically from the training data.\n",
        "    categories='auto')\n",
        "\n",
        "# Fit then transform the data.\n",
        "# Fitting uses the Standard Scalar to calculate the mean and standard deviation\n",
        "# of the categories and centers the data around a mean of 0.\n",
        "# Transform will encode the categories with labels, or in this case, one-hot.\n",
        "y_onehot = encoder.fit_transform(y)\n",
        "\n",
        "categories = np.unique(y_onehot, axis=0)\n",
        "\n",
        "for i in range(len(categories)):\n",
        "  onehot_category = []\n",
        "\n",
        "  for k in range(len(categories)):\n",
        "    if categories[k,i] == 1:\n",
        "      onehot_category = categories[k]\n",
        "      break\n",
        "  \n",
        "  print(f'Category: {i} \\tEncoded: {onehot_category}')"
      ],
      "execution_count": 23,
      "outputs": [
        {
          "output_type": "stream",
          "text": [
            "Category: 0 \tEncoded: [1. 0. 0. 0. 0. 0. 0. 0. 0. 0.]\n",
            "Category: 1 \tEncoded: [0. 1. 0. 0. 0. 0. 0. 0. 0. 0.]\n",
            "Category: 2 \tEncoded: [0. 0. 1. 0. 0. 0. 0. 0. 0. 0.]\n",
            "Category: 3 \tEncoded: [0. 0. 0. 1. 0. 0. 0. 0. 0. 0.]\n",
            "Category: 4 \tEncoded: [0. 0. 0. 0. 1. 0. 0. 0. 0. 0.]\n",
            "Category: 5 \tEncoded: [0. 0. 0. 0. 0. 1. 0. 0. 0. 0.]\n",
            "Category: 6 \tEncoded: [0. 0. 0. 0. 0. 0. 1. 0. 0. 0.]\n",
            "Category: 7 \tEncoded: [0. 0. 0. 0. 0. 0. 0. 1. 0. 0.]\n",
            "Category: 8 \tEncoded: [0. 0. 0. 0. 0. 0. 0. 0. 1. 0.]\n",
            "Category: 9 \tEncoded: [0. 0. 0. 0. 0. 0. 0. 0. 0. 1.]\n"
          ],
          "name": "stdout"
        }
      ]
    },
    {
      "cell_type": "markdown",
      "metadata": {
        "id": "cVnEVSdAGZOo",
        "colab_type": "text"
      },
      "source": [
        "## Setup"
      ]
    },
    {
      "cell_type": "code",
      "metadata": {
        "id": "vTri-RWMGW-3",
        "colab_type": "code",
        "colab": {}
      },
      "source": [
        "learning_rate = 1\n",
        "hidden_layer_size = 25\n",
        "input_layer_size = X.shape[1]\n",
        "num_labels = y_onehot.shape[1]"
      ],
      "execution_count": 0,
      "outputs": []
    },
    {
      "cell_type": "markdown",
      "metadata": {
        "id": "2ZOcbGdIGHys",
        "colab_type": "text"
      },
      "source": [
        "## Weight Initialization"
      ]
    },
    {
      "cell_type": "code",
      "metadata": {
        "id": "bpUDlzThGDq0",
        "colab_type": "code",
        "outputId": "4d2e7de8-88ee-47bb-a671-84328d895486",
        "colab": {
          "base_uri": "https://localhost:8080/",
          "height": 34
        }
      },
      "source": [
        "def initialize_weights(X, y, input_layer_size, hidden_layer_size, num_labels):\n",
        "  size = hidden_layer_size * ( input_layer_size + 1 ) + num_labels * ( hidden_layer_size + 1 )\n",
        "  W = ( np.random.random(size=size) - 0.5 ) * 0.25\n",
        "  return W\n",
        "\n",
        "W = initialize_weights(X, y, input_layer_size, hidden_layer_size, num_labels)\n",
        "\n",
        "# Unravel to get each weight\n",
        "W1 = np.matrix(np.reshape(W[:hidden_layer_size * (input_layer_size + 1)], (hidden_layer_size, (input_layer_size + 1))))\n",
        "W2 = np.matrix(np.reshape(W[hidden_layer_size * (input_layer_size + 1):], (num_labels, (hidden_layer_size + 1))))\n",
        "\n",
        "W1.shape, W2.shape"
      ],
      "execution_count": 16,
      "outputs": [
        {
          "output_type": "execute_result",
          "data": {
            "text/plain": [
              "((25, 401), (10, 26))"
            ]
          },
          "metadata": {
            "tags": []
          },
          "execution_count": 16
        }
      ]
    },
    {
      "cell_type": "markdown",
      "metadata": {
        "id": "IHiLKuG3jLf6",
        "colab_type": "text"
      },
      "source": [
        "## Forward Propogation\n",
        "\n",
        "![](https://github.com/harperd/machine-learning/blob/master/images/nn-forward-propagation.png?raw=1)"
      ]
    },
    {
      "cell_type": "code",
      "metadata": {
        "id": "E0E7f6jUh1ro",
        "colab_type": "code",
        "outputId": "fee01158-5436-4db0-a29d-c448527b476b",
        "colab": {
          "base_uri": "https://localhost:8080/",
          "height": 34
        }
      },
      "source": [
        "def sigmoid(z):\n",
        "  return 1 / (1 + np.exp(-z))\n",
        "\n",
        "def forward_propagate(X, y, W1, W2, hidden_size, num_labels):\n",
        "  # Get the number of examples.\n",
        "  m = X.shape[0]\n",
        "\n",
        "  #\n",
        "  # Compute the hypothesis for the first hidden layer\n",
        "  #\n",
        "\n",
        "  # Add a new first column to our inputs, X, with all ones (bias).\n",
        "  a1 = np.insert(X, 0, values=np.ones(m), axis=1)\n",
        "\n",
        "  # Compute our hypothesis z2 using our inputs X + bias column.\n",
        "  z2 = a1 * W1.T\n",
        "\n",
        "  # Apply our Sigmoid activation function to scale the hypothesis results\n",
        "  # between 0 and 1.\n",
        "  a2 = np.insert(sigmoid(z2), 0, values=np.ones(m), axis=1)\n",
        "\n",
        "  #\n",
        "  # Compute the hypothesis for the output layer\n",
        "  #\n",
        "\n",
        "  # Compute our hypothesis z3 using the outputs (hypothesis) from the previous\n",
        "  # hidden layer.\n",
        "  z3 = a2 * W2.T\n",
        "\n",
        "  # Apply our Sigmoid activation function to scale the hypothesis results\n",
        "  # between 0 and 1.\n",
        "  h = sigmoid(z3)\n",
        "\n",
        "  return a1, z2, a2, z3, h\n",
        "\n",
        "a1, z2, a2, z3, h = forward_propagate(X, y, W1, W2, hidden_layer_size, num_labels)\n",
        "\n",
        "a1.shape, z2.shape, a2.shape, z3.shape, h.shape"
      ],
      "execution_count": 17,
      "outputs": [
        {
          "output_type": "execute_result",
          "data": {
            "text/plain": [
              "((5000, 401), (5000, 25), (5000, 26), (5000, 10), (5000, 10))"
            ]
          },
          "metadata": {
            "tags": []
          },
          "execution_count": 17
        }
      ]
    },
    {
      "cell_type": "markdown",
      "metadata": {
        "id": "-YN1Oc0ECuMU",
        "colab_type": "text"
      },
      "source": [
        "## Cost Function and Regularization\n",
        "\n",
        "![](https://github.com/harperd/machine-learning/blob/master/images/nn-cost.png?raw=1)\n",
        "\n",
        "The above cost function shows the first, second and regularization terms."
      ]
    },
    {
      "cell_type": "code",
      "metadata": {
        "id": "vPGIS3JbChEM",
        "colab_type": "code",
        "outputId": "90ae8c88-4096-46ca-e442-fd9d72582c1b",
        "colab": {
          "base_uri": "https://localhost:8080/",
          "height": 34
        }
      },
      "source": [
        "# Compare the output against the true labels.\n",
        "def compute_cost(X, y, h, W1, W2, learning_rate):\n",
        "  m = X.shape[0]\n",
        "  J = 0\n",
        "\n",
        "  # Compare the category labels (y) with the actual results (h)\n",
        "  for i in range(m):\n",
        "    first_term = np.multiply(-y[i,:], np.log(h[i,:]))\n",
        "    second_term = np.multiply((1 - y[i,:]), np.log(1 - h[i,:]))\n",
        "    J += np.sum(first_term - second_term)\n",
        "  \n",
        "  J = J / m\n",
        "\n",
        "  return regularize_l2(J, X, W1, W2, learning_rate)\n",
        "  \n",
        "def regularize_l2(J, X, W1, W2, learning_rate):\n",
        "  m = X.shape[0]\n",
        "  return J + (float(learning_rate) / (2 * m)) * (np.sum(np.power(W1[:,1:], 2)) + np.sum(np.power(W2[:,1:], 2)))\n",
        "\n",
        "J = compute_cost(X, y_onehot, h, W1, W2, learning_rate)\n",
        "\n",
        "print(f'Cost = {J}')"
      ],
      "execution_count": 32,
      "outputs": [
        {
          "output_type": "stream",
          "text": [
            "Cost = 7.121222150880251\n"
          ],
          "name": "stdout"
        }
      ]
    },
    {
      "cell_type": "markdown",
      "metadata": {
        "id": "7Jn5BtusIA3A",
        "colab_type": "text"
      },
      "source": [
        "## Back Propogation\n",
        "\n",
        "![](https://github.com/harperd/machine-learning/blob/master/images/nn-back-propagation.png?raw=1)"
      ]
    },
    {
      "cell_type": "code",
      "metadata": {
        "id": "4-DrhrdYIJph",
        "colab_type": "code",
        "outputId": "85f511ce-33c9-48e2-98ab-cbfcd4babf9d",
        "colab": {
          "base_uri": "https://localhost:8080/",
          "height": 34
        }
      },
      "source": [
        "# To determine if our back propagation code is working as expected, we can check\n",
        "# it with estimating what the actual gradient should be. This is also called \n",
        "# numerical differentiation.\n",
        "def sigmoid_gradient(z):\n",
        "  return np.multiply(sigmoid(z), (1 - sigmoid(z)))\n",
        "\n",
        "def back_propogation(X, y, h, W1, W2, a1, z2, a2, learning_rate):\n",
        "  m = X.shape[1]\n",
        "  delta1 = np.zeros(W1.shape)  # (25, 401)\n",
        "  delta2 = np.zeros(W2.shape)  # (10, 26)\n",
        "\n",
        "  # perform backpropagation\n",
        "  for t in range(m):\n",
        "      a1t = a1[t,:]  # (1, 401)\n",
        "      z2t = z2[t,:]  # (1, 25)\n",
        "      a2t = a2[t,:]  # (1, 26)\n",
        "      ht = h[t,:]  # (1, 10)\n",
        "      yt = y[t,:]  # (1, 10)\n",
        "      \n",
        "      d3t = ht - yt  # (1, 10)\n",
        "      \n",
        "      z2t = np.insert(z2t, 0, values=np.ones(1))  # (1, 26)\n",
        "      d2t = np.multiply((W2.T * d3t.T).T, sigmoid_gradient(z2t))  # (1, 26)\n",
        "      \n",
        "      delta1 = delta1 + (d2t[:,1:]).T * a1t\n",
        "      delta2 = delta2 + d3t.T * a2t\n",
        "      \n",
        "  delta1 = delta1 / m\n",
        "  delta2 = delta2 / m\n",
        "\n",
        "  # add the gradient regularization term\n",
        "  delta1[:,1:] = delta1[:,1:] + (W1[:,1:] * learning_rate) / m\n",
        "  delta2[:,1:] = delta2[:,1:] + (W2[:,1:] * learning_rate) / m\n",
        "\n",
        "  # unravel the gradient matrices into a single array\n",
        "  grad = np.concatenate((np.ravel(delta1), np.ravel(delta2)))\n",
        "\n",
        "  return grad\n",
        "\n",
        "grad = back_propogation(X, y, h, W1, W2, a1, z2, a2, learning_rate)\n",
        "\n",
        "print(f'Cost = {J}, Gradient = {grad.shape}')"
      ],
      "execution_count": 36,
      "outputs": [
        {
          "output_type": "stream",
          "text": [
            "Cost = 7.121222150880251, Gradient = (10285,)\n"
          ],
          "name": "stdout"
        }
      ]
    }
  ]
}