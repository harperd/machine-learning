{
  "nbformat": 4,
  "nbformat_minor": 0,
  "metadata": {
    "colab": {
      "name": "neural-network.ipynb",
      "version": "0.3.2",
      "provenance": [],
      "include_colab_link": true
    },
    "kernelspec": {
      "name": "python3",
      "display_name": "Python 3"
    }
  },
  "cells": [
    {
      "cell_type": "markdown",
      "metadata": {
        "id": "view-in-github",
        "colab_type": "text"
      },
      "source": [
        "<a href=\"https://colab.research.google.com/github/harperd/machine-learning/blob/master/notebooks/neural-network.ipynb\" target=\"_parent\"><img src=\"https://colab.research.google.com/assets/colab-badge.svg\" alt=\"Open In Colab\"/></a>"
      ]
    },
    {
      "cell_type": "markdown",
      "metadata": {
        "id": "e5W_m8eLzbkR",
        "colab_type": "text"
      },
      "source": [
        "# Neural Network\n",
        "\n",
        "Create a neural network to recognize hand-written digits (0 to 9)."
      ]
    },
    {
      "cell_type": "code",
      "metadata": {
        "id": "26Tg0d96zKfM",
        "colab_type": "code",
        "colab": {}
      },
      "source": [
        "import numpy as np\n",
        "import matplotlib.pyplot as plt\n",
        "import matplotlib.style as style\n",
        "import pandas as pd\n",
        "import google.colab as colab\n",
        "import scipy.optimize as opt\n",
        "import io\n",
        "\n",
        "from scipy.io import loadmat\n",
        "\n",
        "# Allow saving our graphs in the notebook\n",
        "%matplotlib inline\n",
        "\n",
        "style.use('dark_background')"
      ],
      "execution_count": 0,
      "outputs": []
    },
    {
      "cell_type": "code",
      "metadata": {
        "id": "jBxKbHcT0IGD",
        "colab_type": "code",
        "outputId": "7d10fc25-c7cc-4f02-ae29-87aac229bbe5",
        "colab": {
          "resources": {
            "http://localhost:8080/nbextensions/google.colab/files.js": {
              "data": "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",
              "ok": true,
              "headers": [
                [
                  "content-type",
                  "application/javascript"
                ]
              ],
              "status": 200,
              "status_text": ""
            }
          },
          "base_uri": "https://localhost:8080/",
          "height": 128
        }
      },
      "source": [
        "mat_file = colab.files.upload()\n",
        "!ls -l"
      ],
      "execution_count": 3,
      "outputs": [
        {
          "output_type": "display_data",
          "data": {
            "text/html": [
              "\n",
              "     <input type=\"file\" id=\"files-7737dcfb-d9ef-426c-82f9-69fe8576cf94\" name=\"files[]\" multiple disabled />\n",
              "     <output id=\"result-7737dcfb-d9ef-426c-82f9-69fe8576cf94\">\n",
              "      Upload widget is only available when the cell has been executed in the\n",
              "      current browser session. Please rerun this cell to enable.\n",
              "      </output>\n",
              "      <script src=\"/nbextensions/google.colab/files.js\"></script> "
            ],
            "text/plain": [
              "<IPython.core.display.HTML object>"
            ]
          },
          "metadata": {
            "tags": []
          }
        },
        {
          "output_type": "stream",
          "text": [
            "Saving ex4data1.mat to ex4data1.mat\n",
            "total 7340\n",
            "-rw-r--r-- 1 root root 7511764 Sep 16 00:40 ex4data1.mat\n",
            "drwxr-xr-x 1 root root    4096 Aug 27 16:17 sample_data\n"
          ],
          "name": "stdout"
        }
      ]
    },
    {
      "cell_type": "code",
      "metadata": {
        "id": "rwHKY8e30XnW",
        "colab_type": "code",
        "outputId": "9ae0250e-f006-4563-e5ba-dd931838731d",
        "colab": {
          "base_uri": "https://localhost:8080/",
          "height": 316
        }
      },
      "source": [
        "mat_data = loadmat('ex4data1.mat')\n",
        "mat_data"
      ],
      "execution_count": 4,
      "outputs": [
        {
          "output_type": "execute_result",
          "data": {
            "text/plain": [
              "{'X': array([[0., 0., 0., ..., 0., 0., 0.],\n",
              "        [0., 0., 0., ..., 0., 0., 0.],\n",
              "        [0., 0., 0., ..., 0., 0., 0.],\n",
              "        ...,\n",
              "        [0., 0., 0., ..., 0., 0., 0.],\n",
              "        [0., 0., 0., ..., 0., 0., 0.],\n",
              "        [0., 0., 0., ..., 0., 0., 0.]]),\n",
              " '__globals__': [],\n",
              " '__header__': b'MATLAB 5.0 MAT-file, Platform: GLNXA64, Created on: Sun Oct 16 13:09:09 2011',\n",
              " '__version__': '1.0',\n",
              " 'y': array([[10],\n",
              "        [10],\n",
              "        [10],\n",
              "        ...,\n",
              "        [ 9],\n",
              "        [ 9],\n",
              "        [ 9]], dtype=uint8)}"
            ]
          },
          "metadata": {
            "tags": []
          },
          "execution_count": 4
        }
      ]
    },
    {
      "cell_type": "code",
      "metadata": {
        "id": "-TvB6mmL0bPf",
        "colab_type": "code",
        "outputId": "bb78f8e8-d5ae-4ca4-9357-d666027d7b11",
        "colab": {
          "base_uri": "https://localhost:8080/",
          "height": 52
        }
      },
      "source": [
        "X = mat_data['X']\n",
        "y = mat_data['y']\n",
        "\n",
        "print(f'X Shape: {X.shape}')\n",
        "print(f'y Shape: {y.shape}')"
      ],
      "execution_count": 5,
      "outputs": [
        {
          "output_type": "stream",
          "text": [
            "X Shape: (5000, 400)\n",
            "y Shape: (5000, 1)\n"
          ],
          "name": "stdout"
        }
      ]
    },
    {
      "cell_type": "markdown",
      "metadata": {
        "id": "6kAIwxuR0e3K",
        "colab_type": "text"
      },
      "source": [
        "![Hand written numbers](https://github.com/harperd/machine-learning/blob/master/images/ex3-1.png?raw=1)"
      ]
    },
    {
      "cell_type": "code",
      "metadata": {
        "id": "P-rcBKBqP8_2",
        "colab_type": "code",
        "outputId": "9d4b8a7c-ab0e-44cb-97dd-f84e8357ede7",
        "colab": {
          "base_uri": "https://localhost:8080/",
          "height": 87
        }
      },
      "source": [
        "def add_bias(m):\n",
        "  if(len(m.shape) == 2):\n",
        "    return np.concatenate(\n",
        "      (np.ones(m.shape[0])[:, np.newaxis], m),\n",
        "      axis = 1)\n",
        "  \n",
        "  if(len(m.shape) == 1):\n",
        "    return np.insert(m, 0, 1, axis = 0)\n",
        "  \n",
        "def describe_network(network):\n",
        "  layers_dims = network['layers_dims']\n",
        "  parameters = network['parameters']\n",
        "  \n",
        "  L = len(layers_dims)\n",
        "  INPUT_LAYER = 1\n",
        "  OUTPUT_LAYER = L\n",
        "  \n",
        "  print('The following describes the configured network architecture:')\n",
        "  print()\n",
        "  \n",
        "  for l in range(1, L + 1):\n",
        "    size_l = layers_dims[l - 1]\n",
        "    \n",
        "    if(l == INPUT_LAYER):\n",
        "      W = parameters[f'W{str(l)}'].shape\n",
        "      print(f'Layer1:Input[x{size_l}] --> ', end = '')\n",
        "      print(f'W{l}[{W[0]}x{W[1]}] --> ', end = '')\n",
        "    elif(l == OUTPUT_LAYER):\n",
        "      print(f'Layer{l}:Output[x{size_l}]')\n",
        "    else:\n",
        "      W = parameters[\"W\" + str(l)].shape\n",
        "      print(f'Layer{l}:Hidden[x{size_l}] --> ', end = '')\n",
        "      print(f'W{l}[{W[0]}x{W[1]}] --> ', end = '')\n",
        "\n",
        "# Xavier Initialization since we are using Sigmoid to avoid vanishing\n",
        "# or exploading gradients if our network is a deep network.\n",
        "def xavier(prev_layer_size):\n",
        "    return np.sqrt(1 / prev_layer_size)\n",
        "  \n",
        "def initialize_parameters(layers_dims):\n",
        "    np.random.seed(1)               \n",
        "    parameters = {}\n",
        "    \n",
        "    # Get the number of layers\n",
        "    L = len(layers_dims)            \n",
        "    \n",
        "    # For each layer initalize the weights and bias vector\n",
        "    for i in range(1, L):\n",
        "        current_layer_size = layers_dims[i - 1]\n",
        "        next_layer_size    = layers_dims[i]\n",
        "        \n",
        "        # print(f'Initializing W{l} parameters matrix with size {next_layer_size} x {current_layer_size + 1}')\n",
        "        \n",
        "        # TO DO: Initialize between -1 and 1\n",
        "        \n",
        "        # Create a weight matrix with size of (m) x (n)\n",
        "        # where rows (m) is the number of activation functions in the next layer\n",
        "        # and the number of columns (n) is the number of activation functions \n",
        "        # from the current layer plus 1 for the bias column.\n",
        "        W = np.random.randn(\n",
        "              next_layer_size,       # number of rows (m)\n",
        "              current_layer_size + 1 # number of columns (n)\n",
        "            ) * .01 ## TO DO: FIX xavier(current_layer_size)\n",
        "        \n",
        "        assert W.shape == (next_layer_size, current_layer_size + 1)\n",
        "        \n",
        "        parameters[f'W{i}'] = W\n",
        "\n",
        "    return parameters\n",
        "  \n",
        "def to_vec(y, K):\n",
        "  y_vec = {}\n",
        "  example = 1\n",
        "  \n",
        "  for i in y:\n",
        "    vec = np.zeros((K, 1))\n",
        "    index = y[i][0] if y[i][0] < 10 else 0\n",
        "    vec[index][0] = 1\n",
        "    y_vec[example] = {\n",
        "        'vector': vec,\n",
        "        'digit': index\n",
        "    }\n",
        "    example = example + 1\n",
        "    \n",
        "  return y_vec\n",
        "  \n",
        "def initialize_network(layers_dims, y):\n",
        "    network = {}\n",
        "    K = len(np.unique(y))\n",
        "    network['y'] = to_vec(y, K)\n",
        "    network['classes'] = K\n",
        "    network['layers_dims'] = layers_dims\n",
        "    network['parameters'] = initialize_parameters(layers_dims)\n",
        "    \n",
        "    return network\n",
        "\n",
        "network = initialize_network([X.shape[1], 25, 10], y)\n",
        "print()\n",
        "describe_network(network)"
      ],
      "execution_count": 22,
      "outputs": [
        {
          "output_type": "stream",
          "text": [
            "\n",
            "The following describes the configured network architecture:\n",
            "\n",
            "Layer1:Input[x400] --> W1[25x401] --> Layer2:Hidden[x25] --> W2[10x26] --> Layer3:Output[x10]\n"
          ],
          "name": "stdout"
        }
      ]
    },
    {
      "cell_type": "code",
      "metadata": {
        "id": "Qn0IPsseneqz",
        "colab_type": "code",
        "outputId": "589f6704-28d1-4f60-a0eb-4eb95eafedee",
        "colab": {
          "base_uri": "https://localhost:8080/",
          "height": 87
        }
      },
      "source": [
        "def sigmoid(z):\n",
        "  return 1 / (1 + np.exp(-z))\n",
        "\n",
        "def g(z):\n",
        "  return add_bias(sigmoid(z))\n",
        "\n",
        "def convert_to_output_vec(h, K):  \n",
        "    # Drop the bias unit\n",
        "    output_units = np.delete(h, 0)\n",
        "    \n",
        "    # Get the maxium probability (one-vs-all)\n",
        "    max_probability = max(output_units)\n",
        "    \n",
        "    # Set the max probability to 1 and others to 0\n",
        "    # so first create a K-dimentional vector of all zeros\n",
        "    v = np.zeros((K, 1))\n",
        "    \n",
        "    # Then, get the index of the max probability and set that in our\n",
        "    # hypothesis vector.\n",
        "    i = np.where(output_units == max_probability)[0][0]\n",
        "    v[i] = 1\n",
        "    \n",
        "    return v\n",
        "  \n",
        "def feed_forward(network, X):\n",
        "  print('Propagating forward...')\n",
        "  layers_dims = network['layers_dims']\n",
        "  parameters = network['parameters']\n",
        "\n",
        "  K = network['classes']\n",
        "  L = len(layers_dims)\n",
        "  INPUT_LAYER = 1\n",
        "  OUTPUT_LAYER = L\n",
        "  \n",
        "  passes = {}\n",
        "  \n",
        "  example = 1\n",
        "  \n",
        "  for x in add_bias(X):\n",
        "    compute = {}\n",
        "    \n",
        "    for index_l in range(0, L):\n",
        "      l = index_l + 1\n",
        "\n",
        "      if(l == INPUT_LAYER):\n",
        "        compute['a1'] = x\n",
        "      else:\n",
        "        a = compute[f'a{l - 1}']\n",
        "        W = parameters[f'W{l - 1}']\n",
        "        z = W @ a\n",
        "        h = g(z)\n",
        "        compute[f'a{l}'] = h\n",
        "        \n",
        "        if(l == OUTPUT_LAYER):\n",
        "          compute['output_vec'] = convert_to_output_vec(h, K)\n",
        "          passes[example] = compute\n",
        "          example = example + 1\n",
        "          \n",
        "  return passes\n",
        "  \n",
        "%time network['forward_passes'] = feed_forward(network, X)\n",
        "examples = len(network['forward_passes'])\n",
        "print(f'Processed {examples} examples.')"
      ],
      "execution_count": 24,
      "outputs": [
        {
          "output_type": "stream",
          "text": [
            "Propagating forward...\n",
            "CPU times: user 749 ms, sys: 550 ms, total: 1.3 s\n",
            "Wall time: 665 ms\n",
            "Processed 5000 examples.\n"
          ],
          "name": "stdout"
        }
      ]
    },
    {
      "cell_type": "code",
      "metadata": {
        "id": "WCqAed2C6Qc1",
        "colab_type": "code",
        "colab": {
          "base_uri": "https://localhost:8080/",
          "height": 386
        },
        "outputId": "b2a8a2b3-4a46-4b8a-b84d-3a4672c892ba"
      },
      "source": [
        "def compute_cost(network, X):\n",
        "  m = X.shape[0] # Number of examples\n",
        "  K = 10         # Number of labels (digits 0 - 9)\n",
        "  \n",
        "  # Loop through all of the 5000 training examples\n",
        "  for i in range(2, m + 1):\n",
        "    output_vec = network['forward_passes'][i]['output_vec']\n",
        "    y_vec = network['y'][i]['vector']\n",
        "    y_digit = network['y'][i]['digit']\n",
        "    \n",
        "    print(output_vec)\n",
        "    print(y_vec)\n",
        "    print(y_digit)\n",
        "    \n",
        "    # Including the bias units in the cost is not a big deal but you generally \n",
        "    # want to omit them hence below we are not regularizing the bias units so \n",
        "    # our limits will start at 1.\n",
        "    #for k in range(1, K + 1):\n",
        "    #  print(f'Output unit {k} = {output_units[k]}')\n",
        "    #  print(max(output_units))\n",
        "      \n",
        "    break\n",
        "\n",
        "compute_cost(network, X)"
      ],
      "execution_count": 27,
      "outputs": [
        {
          "output_type": "stream",
          "text": [
            "[[0.]\n",
            " [0.]\n",
            " [0.]\n",
            " [0.]\n",
            " [0.]\n",
            " [0.]\n",
            " [1.]\n",
            " [0.]\n",
            " [0.]\n",
            " [0.]]\n",
            "[[1.]\n",
            " [0.]\n",
            " [0.]\n",
            " [0.]\n",
            " [0.]\n",
            " [0.]\n",
            " [0.]\n",
            " [0.]\n",
            " [0.]\n",
            " [0.]]\n",
            "0\n"
          ],
          "name": "stdout"
        }
      ]
    }
  ]
}