{
 "cells": [
  {
   "cell_type": "markdown",
   "metadata": {},
   "source": [
    "# Supervised Learning\n",
    "\n",
    "For labeled data we want to find the boundaries in Feature space that separate different classes of labeled Examples. New data assigned to class based on it’s portion of the Feature space carved out by classifier surface in which it lies.\n",
    "\n",
    "- Look for a simple surface (e.g. best line or plane) that separates the classes or clusters.\n",
    "- Look for more complex surfaces, subject to constraints, that separate classes.\n",
    "- Use K nearest neighbor (voting scheme) which use majority vote to select labels."
   ]
  },
  {
   "cell_type": "markdown",
   "metadata": {},
   "source": [
    "# Measuring Model Accuracy\n",
    "\n",
    "Once you have a model you can run your test data and product a *Confusion Matrix* or *Error Matrix* which will be used to determine training errors.\n",
    "![](https://github.com/harperd/machine-learning/blob/master/images/confusion-matrix.jpg?raw=1)\n",
    "\n",
    "The accuracy is then measured by the below. This should be done for not only the training data set but to the test data set.\n",
    "![](https://github.com/harperd/machine-learning/blob/master/images/accuracy.jpg?raw=1)"
   ]
  },
  {
   "cell_type": "code",
   "execution_count": null,
   "metadata": {},
   "outputs": [],
   "source": []
  }
 ],
 "metadata": {
  "kernelspec": {
   "display_name": "Python 3",
   "language": "python",
   "name": "python3"
  },
  "language_info": {
   "codemirror_mode": {
    "name": "ipython",
    "version": 3
   },
   "file_extension": ".py",
   "mimetype": "text/x-python",
   "name": "python",
   "nbconvert_exporter": "python",
   "pygments_lexer": "ipython3",
   "version": "3.7.1"
  }
 },
 "nbformat": 4,
 "nbformat_minor": 2
}
