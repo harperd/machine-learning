{
  "nbformat": 4,
  "nbformat_minor": 0,
  "metadata": {
    "colab": {
      "name": "binary-logistic-regression.ipynb",
      "version": "0.3.2",
      "provenance": [],
      "include_colab_link": true
    },
    "kernelspec": {
      "name": "python3",
      "display_name": "Python 3"
    }
  },
  "cells": [
    {
      "cell_type": "markdown",
      "metadata": {
        "id": "view-in-github",
        "colab_type": "text"
      },
      "source": [
        "<a href=\"https://colab.research.google.com/github/harperd/machine-learning/blob/master/notebooks/binary-logistic-regression.ipynb\" target=\"_parent\"><img src=\"https://colab.research.google.com/assets/colab-badge.svg\" alt=\"Open In Colab\"/></a>"
      ]
    },
    {
      "cell_type": "markdown",
      "metadata": {
        "id": "RMu0-xrhFSTR",
        "colab_type": "text"
      },
      "source": [
        "# Binary Logistic Regression\n",
        "\n",
        "Suppose that you are the administrator of a university department and you want to determine each applicant's chance of admission based on their results on two exams."
      ]
    },
    {
      "cell_type": "code",
      "metadata": {
        "id": "lIbeQTjIFLV9",
        "colab_type": "code",
        "colab": {}
      },
      "source": [
        "# NumPy adds support for large, multi-dimensional arrays and matrices, along with a large collection \n",
        "# of high-level mathematical functions to operate on these arrays.\n",
        "import numpy as np\n",
        "\n",
        "# Matplotlib is a plotting library for the Python programming language and its numerical mathematics \n",
        "# extension NumPy. It provides an object-oriented API for embedding plots into applications using \n",
        "# general-purpose GUI toolkits like Tkinter, wxPython, Qt, or GTK+.\n",
        "import matplotlib.pyplot as plt\n",
        "\n",
        "# Allow saving our graphs in the notebook\n",
        "%matplotlib inline\n",
        "\n",
        "# Pandas is a software library for data manipulation and analysis. In particular, it offers data \n",
        "# structures and operations for manipulating numerical tables and time series.\n",
        "import pandas as pd\n",
        "\n",
        "# SciPy optimize provides functions for minimizing (or maximizing) objective \n",
        "# functions, possibly subject to constraints. It includes solvers for nonlinear \n",
        "# problems (with support for both local and global optimization algorithms), \n",
        "# linear programing, constrained and nonlinear least-squares, root finding\n",
        "# and curve fitting.\n",
        "import scipy.optimize as opt"
      ],
      "execution_count": 0,
      "outputs": []
    },
    {
      "cell_type": "markdown",
      "metadata": {
        "id": "jQEbEljkroV1",
        "colab_type": "text"
      },
      "source": [
        "## Chart Dark Theme For Google Colab Dark Mode"
      ]
    },
    {
      "cell_type": "code",
      "metadata": {
        "id": "2_h2iY6srm7L",
        "colab_type": "code",
        "colab": {}
      },
      "source": [
        "def set_theme(ax):\n",
        "  dark_theme = True\n",
        "  chart_face_color =  '#404040' if dark_theme else '#FFFFFF'\n",
        "  chart_label_color =  '#FFFFFF' if dark_theme else '#000000'\n",
        "  \n",
        "  ax.set_facecolor(chart_face_color)\n",
        "  ax.spines['bottom'].set_color(chart_label_color)\n",
        "  ax.spines['top'].set_color(chart_label_color)\n",
        "  ax.spines['left'].set_color(chart_label_color)\n",
        "  ax.spines['right'].set_color(chart_label_color)\n",
        "  ax.xaxis.label.set_color(chart_label_color)\n",
        "  ax.yaxis.label.set_color(chart_label_color)\n",
        "  ax.tick_params(axis='x', colors=chart_label_color)\n",
        "  ax.tick_params(axis='y', colors=chart_label_color)"
      ],
      "execution_count": 0,
      "outputs": []
    },
    {
      "cell_type": "markdown",
      "metadata": {
        "id": "R3ZqURKnCgsa",
        "colab_type": "text"
      },
      "source": [
        "## Read Sample Data"
      ]
    },
    {
      "cell_type": "code",
      "metadata": {
        "id": "sh72WN5fGNN8",
        "colab_type": "code",
        "outputId": "982236ca-c8f9-4088-8a9e-10574f2917db",
        "colab": {
          "base_uri": "https://localhost:8080/",
          "height": 70
        }
      },
      "source": [
        "df_raw = pd.read_csv(\n",
        "    'https://raw.githubusercontent.com/harperd/machine-learning/master/data/ex2data1.csv',\n",
        "    header = None,\n",
        "    names = ['Exam 1', 'Exam 2', 'Admitted'])\n",
        "%time print(f'{len(df_raw.index):,} rows read.')"
      ],
      "execution_count": 5,
      "outputs": [
        {
          "output_type": "stream",
          "text": [
            "100 rows read.\n",
            "CPU times: user 131 µs, sys: 28 µs, total: 159 µs\n",
            "Wall time: 163 µs\n"
          ],
          "name": "stdout"
        }
      ]
    },
    {
      "cell_type": "code",
      "metadata": {
        "id": "dpwY7kFoGZJL",
        "colab_type": "code",
        "outputId": "759f0dc1-6eaa-447b-cb23-0c3d12dd48f1",
        "colab": {
          "base_uri": "https://localhost:8080/",
          "height": 195
        }
      },
      "source": [
        "df_raw.head()"
      ],
      "execution_count": 6,
      "outputs": [
        {
          "output_type": "execute_result",
          "data": {
            "text/html": [
              "<div>\n",
              "<style scoped>\n",
              "    .dataframe tbody tr th:only-of-type {\n",
              "        vertical-align: middle;\n",
              "    }\n",
              "\n",
              "    .dataframe tbody tr th {\n",
              "        vertical-align: top;\n",
              "    }\n",
              "\n",
              "    .dataframe thead th {\n",
              "        text-align: right;\n",
              "    }\n",
              "</style>\n",
              "<table border=\"1\" class=\"dataframe\">\n",
              "  <thead>\n",
              "    <tr style=\"text-align: right;\">\n",
              "      <th></th>\n",
              "      <th>Exam 1</th>\n",
              "      <th>Exam 2</th>\n",
              "      <th>Admitted</th>\n",
              "    </tr>\n",
              "  </thead>\n",
              "  <tbody>\n",
              "    <tr>\n",
              "      <th>0</th>\n",
              "      <td>34.623660</td>\n",
              "      <td>78.024693</td>\n",
              "      <td>0</td>\n",
              "    </tr>\n",
              "    <tr>\n",
              "      <th>1</th>\n",
              "      <td>30.286711</td>\n",
              "      <td>43.894998</td>\n",
              "      <td>0</td>\n",
              "    </tr>\n",
              "    <tr>\n",
              "      <th>2</th>\n",
              "      <td>35.847409</td>\n",
              "      <td>72.902198</td>\n",
              "      <td>0</td>\n",
              "    </tr>\n",
              "    <tr>\n",
              "      <th>3</th>\n",
              "      <td>60.182599</td>\n",
              "      <td>86.308552</td>\n",
              "      <td>1</td>\n",
              "    </tr>\n",
              "    <tr>\n",
              "      <th>4</th>\n",
              "      <td>79.032736</td>\n",
              "      <td>75.344376</td>\n",
              "      <td>1</td>\n",
              "    </tr>\n",
              "  </tbody>\n",
              "</table>\n",
              "</div>"
            ],
            "text/plain": [
              "      Exam 1     Exam 2  Admitted\n",
              "0  34.623660  78.024693         0\n",
              "1  30.286711  43.894998         0\n",
              "2  35.847409  72.902198         0\n",
              "3  60.182599  86.308552         1\n",
              "4  79.032736  75.344376         1"
            ]
          },
          "metadata": {
            "tags": []
          },
          "execution_count": 6
        }
      ]
    },
    {
      "cell_type": "markdown",
      "metadata": {
        "id": "FeaCL6atCnpc",
        "colab_type": "text"
      },
      "source": [
        "## Plot The Sample Data"
      ]
    },
    {
      "cell_type": "code",
      "metadata": {
        "id": "LywZzmYZGgGF",
        "colab_type": "code",
        "outputId": "0948847d-b4e2-4944-f3d5-e1a29a9a1952",
        "colab": {
          "base_uri": "https://localhost:8080/",
          "height": 500
        }
      },
      "source": [
        "# Get values for positive (admitted) and negative (not admitted).\n",
        "# We will plot these separately.\n",
        "positive = df_raw[df_raw['Admitted'].isin([1])]\n",
        "negative = df_raw[df_raw['Admitted'].isin([0])]\n",
        "\n",
        "fig, ax = plt.subplots(figsize=(12,8))\n",
        "ax.scatter(positive['Exam 1'], positive['Exam 2'], s=50, c='#99FF99', marker='o', label='Admitted')\n",
        "ax.scatter(negative['Exam 1'], negative['Exam 2'], s=50, c='#F66666', marker='x', label='Not Admitted')\n",
        "ax.legend()\n",
        "ax.set_xlabel('Exam 1 Score')\n",
        "ax.set_ylabel('Exam 2 Score')\n",
        "\n",
        "set_theme(ax)\n",
        "\n",
        "plt.show()"
      ],
      "execution_count": 7,
      "outputs": [
        {
          "output_type": "display_data",
          "data": {
            "image/png": "[encoded data removed]",
            "text/plain": [
              "<Figure size 864x576 with 1 Axes>"
            ]
          },
          "metadata": {
            "tags": []
          }
        }
      ]
    },
    {
      "cell_type": "markdown",
      "metadata": {
        "id": "yo_Tr5W8C8m3",
        "colab_type": "text"
      },
      "source": [
        "## Get X, y and Initial Theta Values"
      ]
    },
    {
      "cell_type": "code",
      "metadata": {
        "id": "5doUtJlkTkLw",
        "colab_type": "code",
        "outputId": "6056fe71-2e8d-45a2-e48f-2c563864d16b",
        "colab": {
          "base_uri": "https://localhost:8080/",
          "height": 34
        }
      },
      "source": [
        "df_alt = df_raw.copy()\n",
        "\n",
        "# add a ones column - this makes the matrix multiplication work out easier\n",
        "df_alt.insert(0, 'Ones', 1)\n",
        "\n",
        "# set X (training data) and y (target variable)\n",
        "#cols = data.shape[1]\n",
        "X = df_alt.iloc[:, 0:3]\n",
        "y = df_alt.iloc[:, 3:4]\n",
        "\n",
        "# Note: It is no longer recommended to use np.matrix, even for linear algebra. \n",
        "# Instead use regular arrays. The class may be removed in the future.\n",
        "X = np.array(X.values) # 2D array\n",
        "y = np.array(y.values) # 2D array\n",
        "theta = np.array(np.zeros(3), ndmin = 2) # 2D array\n",
        "\n",
        "X.shape, theta.shape, y.shape"
      ],
      "execution_count": 8,
      "outputs": [
        {
          "output_type": "execute_result",
          "data": {
            "text/plain": [
              "((100, 3), (1, 3), (100, 1))"
            ]
          },
          "metadata": {
            "tags": []
          },
          "execution_count": 8
        }
      ]
    },
    {
      "cell_type": "markdown",
      "metadata": {
        "id": "Hg2Q8t3rEMO3",
        "colab_type": "text"
      },
      "source": [
        "## Create Functions"
      ]
    },
    {
      "cell_type": "markdown",
      "metadata": {
        "id": "btEY8O2vCsFC",
        "colab_type": "text"
      },
      "source": [
        "### Create The SIgmoid Function\n"
      ]
    },
    {
      "cell_type": "code",
      "metadata": {
        "id": "Vr2I5Lm8HmNd",
        "colab_type": "code",
        "outputId": "f2edafb8-7363-43d2-a0ac-93bb3d361f8f",
        "colab": {
          "base_uri": "https://localhost:8080/",
          "height": 269
        }
      },
      "source": [
        "def sigmoid(z):\n",
        "  return 1 / ( 1 + np.exp(-z) )\n",
        "\n",
        "nums = np.arange(-10, 10, step = 1)\n",
        "\n",
        "fig, ax = plt.subplots()\n",
        "ax.plot(nums, sigmoid(nums), 'r')\n",
        "\n",
        "set_theme(ax)\n",
        "\n",
        "plt.show()"
      ],
      "execution_count": 9,
      "outputs": [
        {
          "output_type": "display_data",
          "data": {
            "image/png": "[encoded data removed]",
            "text/plain": [
              "<Figure size 432x288 with 1 Axes>"
            ]
          },
          "metadata": {
            "tags": []
          }
        }
      ]
    },
    {
      "cell_type": "markdown",
      "metadata": {
        "id": "AIBZjYTDDCj-",
        "colab_type": "text"
      },
      "source": [
        "### Create a Function for Computing a Hypothesis"
      ]
    },
    {
      "cell_type": "code",
      "metadata": {
        "id": "Q6cgo70c6I1Y",
        "colab_type": "code",
        "colab": {}
      },
      "source": [
        "def compute_hypothesis(theta, X):\n",
        "  # Compute our hypothesis\n",
        "  z = X @ theta.T\n",
        "\n",
        "  # Scale our hypothesis using Sigmoid\n",
        "  # Here, if the parameter is zero then the sigmoid value will be 0.5.\n",
        "  h = sigmoid(z)\n",
        "  \n",
        "  return h"
      ],
      "execution_count": 0,
      "outputs": []
    },
    {
      "cell_type": "markdown",
      "metadata": {
        "id": "5bUyRJNADGM3",
        "colab_type": "text"
      },
      "source": [
        "### Create a Function for Computing Cost"
      ]
    },
    {
      "cell_type": "code",
      "metadata": {
        "id": "yInVXy1cTeyi",
        "colab_type": "code",
        "outputId": "0279a189-431e-47df-9f08-eb200c94f06e",
        "colab": {
          "base_uri": "https://localhost:8080/",
          "height": 34
        }
      },
      "source": [
        "def compute_cost(theta, X, y):\n",
        "  theta = np.array(theta, ndmin = 2)\n",
        "  X = np.array(X, ndmin = 2)\n",
        "  y = np.array(y, ndmin = 2)\n",
        "\n",
        "  # Compute our hypothesis\n",
        "  h = compute_hypothesis(theta, X)\n",
        "    \n",
        "  first = np.log(h) * -y\n",
        "  second = np.log(1 - h) * (1 - y)\n",
        "\n",
        "  # The number of examples\n",
        "  m = len(y)\n",
        "  \n",
        "  return np.sum(first - second) / m\n",
        "\n",
        "cost = compute_cost(theta, X, y)\n",
        "print(f'Cost = {cost}')"
      ],
      "execution_count": 11,
      "outputs": [
        {
          "output_type": "stream",
          "text": [
            "Cost = 0.6931471805599453\n"
          ],
          "name": "stdout"
        }
      ]
    },
    {
      "cell_type": "markdown",
      "metadata": {
        "id": "F8nNbQQhDKCe",
        "colab_type": "text"
      },
      "source": [
        "### Create Function for Computing a Single Gradient"
      ]
    },
    {
      "cell_type": "code",
      "metadata": {
        "id": "Y5W_8cQ5TkEg",
        "colab_type": "code",
        "outputId": "0af5a424-1505-4801-ab6e-6155457a865a",
        "colab": {
          "base_uri": "https://localhost:8080/",
          "height": 34
        }
      },
      "source": [
        "def compute_gradient(theta, X, y):\n",
        "  theta = np.array(theta, ndmin = 2)\n",
        "  X = np.array(X, ndmin = 2)\n",
        "  y = np.array(y, ndmin = 2)\n",
        "  \n",
        "  # Compute our hypothesis\n",
        "  h = compute_hypothesis(theta, X)\n",
        "    \n",
        "  # Get the error\n",
        "  error = h - y\n",
        "\n",
        "  # The number of examples\n",
        "  m = len(y)\n",
        "\n",
        "  # Calculate the gradient\n",
        "  gradient = ( error.T @ X ) / m\n",
        "\n",
        "  return gradient\n",
        "  \n",
        "compute_gradient(theta, X, y)"
      ],
      "execution_count": 12,
      "outputs": [
        {
          "output_type": "execute_result",
          "data": {
            "text/plain": [
              "array([[ -0.1       , -12.00921659, -11.26284221]])"
            ]
          },
          "metadata": {
            "tags": []
          },
          "execution_count": 12
        }
      ]
    },
    {
      "cell_type": "markdown",
      "metadata": {
        "id": "61tWWCfkCSaJ",
        "colab_type": "text"
      },
      "source": [
        "## Minimize Theta Values"
      ]
    },
    {
      "cell_type": "code",
      "metadata": {
        "id": "SdYNOlHaT5QY",
        "colab_type": "code",
        "outputId": "15b4419c-87e2-4777-db28-fd33f572472e",
        "colab": {
          "base_uri": "https://localhost:8080/",
          "height": 70
        }
      },
      "source": [
        "# Minimize a function with variables subject to bounds,\n",
        "# using gradient information using truncated Newton or Newton Conjugate-Gradient.\n",
        "result = opt.fmin_tnc(\n",
        "  # Initial guess.\n",
        "  x0 = theta,\n",
        "  # Objective function to be minimized.\n",
        "  func = compute_cost,\n",
        "  # Gradient of func.\n",
        "  fprime = compute_gradient,\n",
        "  # Extra arguments passed to f and fprime.\n",
        "  args = ( X, y ))\n",
        "\n",
        "theta_min = result[0]\n",
        "iterations = result[1]\n",
        "cost = compute_cost(theta_min, X, y)\n",
        "\n",
        "print(f'Minimized theta values: {theta_min}')\n",
        "print(f'Number of iterations: {iterations}')\n",
        "print(f'Cost: {cost}')"
      ],
      "execution_count": 13,
      "outputs": [
        {
          "output_type": "stream",
          "text": [
            "Minimized theta values: [-25.16131878   0.20623159   0.20147149]\n",
            "Number of iterations: 36\n",
            "Cost: 0.20349770158947394\n"
          ],
          "name": "stdout"
        }
      ]
    },
    {
      "cell_type": "markdown",
      "metadata": {
        "id": "oZ_CHTGo9Abb",
        "colab_type": "text"
      },
      "source": [
        "## Calculate Model Accuracy"
      ]
    },
    {
      "cell_type": "code",
      "metadata": {
        "id": "bXPY_afd6eIx",
        "colab_type": "code",
        "outputId": "7df4bf13-7bbe-4614-a35f-01795db25b21",
        "colab": {
          "base_uri": "https://localhost:8080/",
          "height": 34
        }
      },
      "source": [
        "def make_predictions(theta, X):\n",
        "  # Compute our hypothesis\n",
        "  h = compute_hypothesis(theta, X)\n",
        "  \n",
        "  # print(h)\n",
        "  \n",
        "  # Make prediction of 1 or zero based on threshold.\n",
        "  predictions = [ 1 if x >= 0.5 else 0 for x in h ]\n",
        "\n",
        "  return predictions\n",
        "\n",
        "def compute_accuracy(predictions, y):\n",
        "  # Get the correct predictions where correct is 1 and\n",
        "  # incorrect is 0.\n",
        "  correct = [ \n",
        "      1 if p_val - y_val == 0 else 0 \n",
        "      # The purpose of zip() is to map the similar index of multiple \n",
        "      # containers so that they can be used just using as single entity.\n",
        "      for (p_val, y_val) in zip(predictions, y)\n",
        "  ]\n",
        "  \n",
        "  # Calculate the overall accuracy.\n",
        "  #\n",
        "  # The map() function returns a list of the results after applying the given\n",
        "  # function to each item of a given iterable (list, tuple etc.).\n",
        "  accuracy = round(( sum(correct) / len(correct)) * 100)\n",
        "  \n",
        "  return accuracy\n",
        "\n",
        "predictions = make_predictions(theta_min, X)\n",
        "accuracy = compute_accuracy(predictions, y)\n",
        "\n",
        "print(f'Accuracy: {accuracy}%')"
      ],
      "execution_count": 14,
      "outputs": [
        {
          "output_type": "stream",
          "text": [
            "Accuracy: 89%\n"
          ],
          "name": "stdout"
        }
      ]
    },
    {
      "cell_type": "markdown",
      "metadata": {
        "id": "_0XDYG8O87IE",
        "colab_type": "text"
      },
      "source": [
        "## Plot the Decision Boundary"
      ]
    },
    {
      "cell_type": "code",
      "metadata": {
        "id": "PRaj3r_irEwA",
        "colab_type": "code",
        "colab": {
          "base_uri": "https://localhost:8080/",
          "height": 500
        },
        "outputId": "02c6cdcf-a3c8-40ac-b429-74569e7e6fce"
      },
      "source": [
        "def plot_decision_boundary(theta, df):\n",
        "  scores = pd.concat([df.iloc[:,0], df.iloc[:,1]])\n",
        "  x = np.linspace(scores.min(), scores.max(), df.shape[0])\n",
        "  y = ( -1 / theta[2] ) * (( theta[1] * x ) + theta[0] )\n",
        "  \n",
        "  # Get values for positive (admitted) and negative (not admitted).\n",
        "  # We will plot these separately.\n",
        "  positive = df[df['Admitted'].isin([1])]\n",
        "  negative = df[df['Admitted'].isin([0])]\n",
        "\n",
        "  fig, ax = plt.subplots(figsize=(12,8))\n",
        "  \n",
        "  ax.scatter(positive['Exam 1'], positive['Exam 2'], s=50, c='#99FF99', marker='o', label='Admitted')\n",
        "  ax.scatter(negative['Exam 1'], negative['Exam 2'], s=50, c='#F66666', marker='x', label='Not Admitted')\n",
        "  \n",
        "  ax.set_xlabel('Exam 1 Score')\n",
        "  ax.set_ylabel('Exam 2 Score')\n",
        "\n",
        "  ax.plot(x, y, 'r', label = 'Decision Boundary')\n",
        "  ax.legend()\n",
        "  \n",
        "  set_theme(ax)\n",
        "\n",
        "plot_decision_boundary(theta_min, df_raw)"
      ],
      "execution_count": 132,
      "outputs": [
        {
          "output_type": "display_data",
          "data": {
            "image/png": "[encoded data removed]",
            "text/plain": [
              "<Figure size 864x576 with 1 Axes>"
            ]
          },
          "metadata": {
            "tags": []
          }
        }
      ]
    },
    {
      "cell_type": "markdown",
      "metadata": {
        "id": "Ue28wztWDhew",
        "colab_type": "text"
      },
      "source": [
        "## Make a Prediction"
      ]
    }
  ]
}