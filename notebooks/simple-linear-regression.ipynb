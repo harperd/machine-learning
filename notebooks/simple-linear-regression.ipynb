{
  "nbformat": 4,
  "nbformat_minor": 0,
  "metadata": {
    "colab": {
      "name": "simple-linear-regression.ipynb",
      "version": "0.3.2",
      "provenance": [],
      "include_colab_link": true
    },
    "kernelspec": {
      "name": "python3",
      "display_name": "Python 3"
    }
  },
  "cells": [
    {
      "cell_type": "markdown",
      "metadata": {
        "id": "view-in-github",
        "colab_type": "text"
      },
      "source": [
        "<a href=\"https://colab.research.google.com/github/harperd/machine-learning/blob/master/notebooks/simple-linear-regression.ipynb\" target=\"_parent\"><img src=\"https://colab.research.google.com/assets/colab-badge.svg\" alt=\"Open In Colab\"/></a>"
      ]
    },
    {
      "cell_type": "markdown",
      "metadata": {
        "id": "hoS9ypJlamoe",
        "colab_type": "text"
      },
      "source": [
        "# Simple Linear Regression\n",
        "\n",
        "Suppose you are the CEO of a restaurant franchise and are considering different cities for opening a new outlet. The chain already has trucks in various cities and you have data for profits and populations from the cities. You need to figure out what the expected profit of a new food truck might be given only the population of the city that it would be placed in."
      ]
    },
    {
      "cell_type": "code",
      "metadata": {
        "id": "fZZw8cwAagrs",
        "colab_type": "code",
        "colab": {}
      },
      "source": [
        "# NumPy adds support for large, multi-dimensional arrays and matrices, along with a large collection \n",
        "# of high-level mathematical functions to operate on these arrays.\n",
        "import numpy as np\n",
        "\n",
        "# Matplotlib is a plotting library for the Python programming language and its numerical mathematics \n",
        "# extension NumPy. It provides an object-oriented API for embedding plots into applications using \n",
        "# general-purpose GUI toolkits like Tkinter, wxPython, Qt, or GTK+.\n",
        "import matplotlib.pyplot as plt\n",
        "\n",
        "# Allow saving our graphs in the notebook\n",
        "%matplotlib inline\n",
        "\n",
        "# Pandas is a software library for data manipulation and analysis. In particular, it offers data \n",
        "# structures and operations for manipulating numerical tables and time series.\n",
        "import pandas as pd"
      ],
      "execution_count": 0,
      "outputs": []
    },
    {
      "cell_type": "code",
      "metadata": {
        "id": "cF4UVfHEaj1o",
        "colab_type": "code",
        "outputId": "a9091fb1-fe4a-4430-9b3c-65570874e2ba",
        "colab": {
          "base_uri": "https://localhost:8080/",
          "height": 70
        }
      },
      "source": [
        "df_raw = pd.read_csv(\n",
        "    'https://raw.githubusercontent.com/harperd/machine-learning/master/data/ex1data1.csv',\n",
        "    header = None,\n",
        "    names=[ 'Population', 'Profit' ])\n",
        "%time print(f'{len(df_raw.index)} rows read.')"
      ],
      "execution_count": 2,
      "outputs": [
        {
          "output_type": "stream",
          "text": [
            "97 rows read.\n",
            "CPU times: user 582 µs, sys: 0 ns, total: 582 µs\n",
            "Wall time: 544 µs\n"
          ],
          "name": "stdout"
        }
      ]
    },
    {
      "cell_type": "code",
      "metadata": {
        "id": "GnmGDtjUcjpX",
        "colab_type": "code",
        "outputId": "58b1794e-5e17-4c57-8e04-4d32bafa6dbd",
        "colab": {
          "base_uri": "https://localhost:8080/",
          "height": 195
        }
      },
      "source": [
        "df_raw.head()"
      ],
      "execution_count": 3,
      "outputs": [
        {
          "output_type": "execute_result",
          "data": {
            "text/html": [
              "<div>\n",
              "<style scoped>\n",
              "    .dataframe tbody tr th:only-of-type {\n",
              "        vertical-align: middle;\n",
              "    }\n",
              "\n",
              "    .dataframe tbody tr th {\n",
              "        vertical-align: top;\n",
              "    }\n",
              "\n",
              "    .dataframe thead th {\n",
              "        text-align: right;\n",
              "    }\n",
              "</style>\n",
              "<table border=\"1\" class=\"dataframe\">\n",
              "  <thead>\n",
              "    <tr style=\"text-align: right;\">\n",
              "      <th></th>\n",
              "      <th>Population</th>\n",
              "      <th>Profit</th>\n",
              "    </tr>\n",
              "  </thead>\n",
              "  <tbody>\n",
              "    <tr>\n",
              "      <th>0</th>\n",
              "      <td>6.1101</td>\n",
              "      <td>17.5920</td>\n",
              "    </tr>\n",
              "    <tr>\n",
              "      <th>1</th>\n",
              "      <td>5.5277</td>\n",
              "      <td>9.1302</td>\n",
              "    </tr>\n",
              "    <tr>\n",
              "      <th>2</th>\n",
              "      <td>8.5186</td>\n",
              "      <td>13.6620</td>\n",
              "    </tr>\n",
              "    <tr>\n",
              "      <th>3</th>\n",
              "      <td>7.0032</td>\n",
              "      <td>11.8540</td>\n",
              "    </tr>\n",
              "    <tr>\n",
              "      <th>4</th>\n",
              "      <td>5.8598</td>\n",
              "      <td>6.8233</td>\n",
              "    </tr>\n",
              "  </tbody>\n",
              "</table>\n",
              "</div>"
            ],
            "text/plain": [
              "   Population   Profit\n",
              "0      6.1101  17.5920\n",
              "1      5.5277   9.1302\n",
              "2      8.5186  13.6620\n",
              "3      7.0032  11.8540\n",
              "4      5.8598   6.8233"
            ]
          },
          "metadata": {
            "tags": []
          },
          "execution_count": 3
        }
      ]
    },
    {
      "cell_type": "code",
      "metadata": {
        "id": "7YCK2X25fDtb",
        "colab_type": "code",
        "outputId": "78a42d97-9e83-4aca-934c-69690cf32185",
        "colab": {
          "base_uri": "https://localhost:8080/",
          "height": 284
        }
      },
      "source": [
        "df_raw.describe()"
      ],
      "execution_count": 4,
      "outputs": [
        {
          "output_type": "execute_result",
          "data": {
            "text/html": [
              "<div>\n",
              "<style scoped>\n",
              "    .dataframe tbody tr th:only-of-type {\n",
              "        vertical-align: middle;\n",
              "    }\n",
              "\n",
              "    .dataframe tbody tr th {\n",
              "        vertical-align: top;\n",
              "    }\n",
              "\n",
              "    .dataframe thead th {\n",
              "        text-align: right;\n",
              "    }\n",
              "</style>\n",
              "<table border=\"1\" class=\"dataframe\">\n",
              "  <thead>\n",
              "    <tr style=\"text-align: right;\">\n",
              "      <th></th>\n",
              "      <th>Population</th>\n",
              "      <th>Profit</th>\n",
              "    </tr>\n",
              "  </thead>\n",
              "  <tbody>\n",
              "    <tr>\n",
              "      <th>count</th>\n",
              "      <td>97.000000</td>\n",
              "      <td>97.000000</td>\n",
              "    </tr>\n",
              "    <tr>\n",
              "      <th>mean</th>\n",
              "      <td>8.159800</td>\n",
              "      <td>5.839135</td>\n",
              "    </tr>\n",
              "    <tr>\n",
              "      <th>std</th>\n",
              "      <td>3.869884</td>\n",
              "      <td>5.510262</td>\n",
              "    </tr>\n",
              "    <tr>\n",
              "      <th>min</th>\n",
              "      <td>5.026900</td>\n",
              "      <td>-2.680700</td>\n",
              "    </tr>\n",
              "    <tr>\n",
              "      <th>25%</th>\n",
              "      <td>5.707700</td>\n",
              "      <td>1.986900</td>\n",
              "    </tr>\n",
              "    <tr>\n",
              "      <th>50%</th>\n",
              "      <td>6.589400</td>\n",
              "      <td>4.562300</td>\n",
              "    </tr>\n",
              "    <tr>\n",
              "      <th>75%</th>\n",
              "      <td>8.578100</td>\n",
              "      <td>7.046700</td>\n",
              "    </tr>\n",
              "    <tr>\n",
              "      <th>max</th>\n",
              "      <td>22.203000</td>\n",
              "      <td>24.147000</td>\n",
              "    </tr>\n",
              "  </tbody>\n",
              "</table>\n",
              "</div>"
            ],
            "text/plain": [
              "       Population     Profit\n",
              "count   97.000000  97.000000\n",
              "mean     8.159800   5.839135\n",
              "std      3.869884   5.510262\n",
              "min      5.026900  -2.680700\n",
              "25%      5.707700   1.986900\n",
              "50%      6.589400   4.562300\n",
              "75%      8.578100   7.046700\n",
              "max     22.203000  24.147000"
            ]
          },
          "metadata": {
            "tags": []
          },
          "execution_count": 4
        }
      ]
    },
    {
      "cell_type": "code",
      "metadata": {
        "id": "uWWtzz4bfIIG",
        "colab_type": "code",
        "outputId": "9fd4006d-f386-44f6-b075-dbc3183e8324",
        "colab": {
          "base_uri": "https://localhost:8080/",
          "height": 518
        }
      },
      "source": [
        "df_raw.plot(kind = 'scatter', x = 'Population', y = 'Profit', figsize = (12,8))"
      ],
      "execution_count": 5,
      "outputs": [
        {
          "output_type": "execute_result",
          "data": {
            "text/plain": [
              "<matplotlib.axes._subplots.AxesSubplot at 0x7f0981a77f98>"
            ]
          },
          "metadata": {
            "tags": []
          },
          "execution_count": 5
        },
        {
          "output_type": "display_data",
          "data": {
            "image/png": "[encoded data removed]",
            "text/plain": [
              "<Figure size 864x576 with 1 Axes>"
            ]
          },
          "metadata": {
            "tags": []
          }
        }
      ]
    },
    {
      "cell_type": "code",
      "metadata": {
        "id": "FtQAPGxTnuJ8",
        "colab_type": "code",
        "outputId": "5cd60337-7d1e-4cc3-d1f5-03273a83b731",
        "colab": {
          "base_uri": "https://localhost:8080/",
          "height": 195
        }
      },
      "source": [
        "# Append a bias column to the beginning\n",
        "# of the DataFrame. This will be used when computing\n",
        "# the hypothesis using matrix multiplication.\n",
        "if 'Bias' not in df_raw:\n",
        "  # Insert new column at index 0, with name Bias and\n",
        "  # a value of all ones.\n",
        "  df_raw.insert(0, 'Bias', 1)\n",
        "  \n",
        "df_raw.head()"
      ],
      "execution_count": 98,
      "outputs": [
        {
          "output_type": "execute_result",
          "data": {
            "text/html": [
              "<div>\n",
              "<style scoped>\n",
              "    .dataframe tbody tr th:only-of-type {\n",
              "        vertical-align: middle;\n",
              "    }\n",
              "\n",
              "    .dataframe tbody tr th {\n",
              "        vertical-align: top;\n",
              "    }\n",
              "\n",
              "    .dataframe thead th {\n",
              "        text-align: right;\n",
              "    }\n",
              "</style>\n",
              "<table border=\"1\" class=\"dataframe\">\n",
              "  <thead>\n",
              "    <tr style=\"text-align: right;\">\n",
              "      <th></th>\n",
              "      <th>Bias</th>\n",
              "      <th>Population</th>\n",
              "      <th>Profit</th>\n",
              "    </tr>\n",
              "  </thead>\n",
              "  <tbody>\n",
              "    <tr>\n",
              "      <th>0</th>\n",
              "      <td>1</td>\n",
              "      <td>6.1101</td>\n",
              "      <td>17.5920</td>\n",
              "    </tr>\n",
              "    <tr>\n",
              "      <th>1</th>\n",
              "      <td>1</td>\n",
              "      <td>5.5277</td>\n",
              "      <td>9.1302</td>\n",
              "    </tr>\n",
              "    <tr>\n",
              "      <th>2</th>\n",
              "      <td>1</td>\n",
              "      <td>8.5186</td>\n",
              "      <td>13.6620</td>\n",
              "    </tr>\n",
              "    <tr>\n",
              "      <th>3</th>\n",
              "      <td>1</td>\n",
              "      <td>7.0032</td>\n",
              "      <td>11.8540</td>\n",
              "    </tr>\n",
              "    <tr>\n",
              "      <th>4</th>\n",
              "      <td>1</td>\n",
              "      <td>5.8598</td>\n",
              "      <td>6.8233</td>\n",
              "    </tr>\n",
              "  </tbody>\n",
              "</table>\n",
              "</div>"
            ],
            "text/plain": [
              "   Bias  Population   Profit\n",
              "0     1      6.1101  17.5920\n",
              "1     1      5.5277   9.1302\n",
              "2     1      8.5186  13.6620\n",
              "3     1      7.0032  11.8540\n",
              "4     1      5.8598   6.8233"
            ]
          },
          "metadata": {
            "tags": []
          },
          "execution_count": 98
        }
      ]
    },
    {
      "cell_type": "code",
      "metadata": {
        "id": "z2U69Ud69Cj8",
        "colab_type": "code",
        "outputId": "31980857-afe9-4d9b-ebe5-518c6e2a710c",
        "colab": {
          "base_uri": "https://localhost:8080/",
          "height": 34
        }
      },
      "source": [
        "# Set X (independent/training variable) \n",
        "# and y (dependent/target variable)\n",
        "cols = df_raw.shape[1]\n",
        "\n",
        "# Get the first two columns of our DataFrame and assign to X.\n",
        "X = df_raw.iloc[:,0:cols-1]\n",
        "\n",
        "# Get the last column of our DataFrame and assign to y.\n",
        "y = df_raw.iloc[:,cols-1:cols]\n",
        "\n",
        "# Convert from DataFrames to numpy matrices for easier\n",
        "# calculations.\n",
        "X = np.matrix(X.values)\n",
        "y = np.matrix(y.values)\n",
        "theta = np.matrix(np.array([0,0]))\n",
        "\n",
        "X.shape, theta.shape, y.shape"
      ],
      "execution_count": 8,
      "outputs": [
        {
          "output_type": "execute_result",
          "data": {
            "text/plain": [
              "((97, 2), (1, 2), (97, 1))"
            ]
          },
          "metadata": {
            "tags": []
          },
          "execution_count": 8
        }
      ]
    },
    {
      "cell_type": "markdown",
      "metadata": {
        "id": "jErth08NfZo-",
        "colab_type": "text"
      },
      "source": [
        "$\\large J( \\theta _{0} ,\\ \\theta _{1}) =\\frac{1}{2m}\\sum\\limits ^{m}_{i=1}\\left( h_{\\theta }\\left( x^{( i)}\\right) -y^{( i)}\\right)^{2}$"
      ]
    },
    {
      "cell_type": "code",
      "metadata": {
        "id": "uIvhI6VVfVE3",
        "colab_type": "code",
        "colab": {}
      },
      "source": [
        " def compute_cost(X, y, theta):\n",
        "  predictions = X * theta.T\n",
        "  error = predictions - y\n",
        "  sum_square_error = np.sum(np.square(error))\n",
        "  m = len(y)\n",
        "  cost = sum_square_error / ( 2 * m )\n",
        "  return cost"
      ],
      "execution_count": 0,
      "outputs": []
    },
    {
      "cell_type": "code",
      "metadata": {
        "id": "fRo2_oUwsp-1",
        "colab_type": "code",
        "outputId": "90028003-e6c2-4bb6-e290-a23b8ff07049",
        "colab": {
          "base_uri": "https://localhost:8080/",
          "height": 34
        }
      },
      "source": [
        "print(f'Cost with a theta0 of {theta[0,0]} and theta1 of {theta[0,1]} is {compute_cost(X, y, theta)}')"
      ],
      "execution_count": 110,
      "outputs": [
        {
          "output_type": "stream",
          "text": [
            "Cost with a theta0 of 0 and theta1 of 0 is 32.072733877455676\n"
          ],
          "name": "stdout"
        }
      ]
    },
    {
      "cell_type": "markdown",
      "metadata": {
        "id": "mJN7qF-mqtYX",
        "colab_type": "text"
      },
      "source": [
        "*repeat until convergence {* \n",
        "\n",
        "​\t$temp 0:= \\theta_{0}-\\alpha\\frac{1}{m}\\sum\\limits ^{m}_{i=1}\\left( h_{\\theta }\\left( x^{(i)}\\right) -y^{( i)}\\right)$\n",
        "\n",
        "​\t$temp1 := \\theta_{1}-\\alpha\\frac{1}{m}\\sum\\limits ^{m}_{i=1}\\left( h_{\\theta }\\left( x^{(i)}\\right) -y^{( i)}\\right)\\cdot x^{(i)}$\n",
        "\n",
        "​\t$\\theta_{0} := temp0$\n",
        "\n",
        "​\t$\\theta_{1} := temp1$\n",
        "\n",
        "*}* "
      ]
    },
    {
      "cell_type": "code",
      "metadata": {
        "id": "Qww9Pjkisv_s",
        "colab_type": "code",
        "colab": {}
      },
      "source": [
        "def gradient_descent(X, y, theta, alpha):\n",
        "    temp = np.matrix(np.zeros(theta.shape))\n",
        "    m = len(y)\n",
        "    cost_history = []\n",
        "    cost = 0\n",
        "    iterations = 0\n",
        "    converged = False\n",
        "    \n",
        "    # Keep calculating new theta values until we have converged\n",
        "    # at the minimum.\n",
        "    while not converged:\n",
        "      # Calculate predictions, h(x), with current theta values\n",
        "      predictions = X * theta.T\n",
        "\n",
        "      # Get the error which tells us how far off we are from the\n",
        "      # actual/dependent variables.\n",
        "      error = predictions - y\n",
        "\n",
        "      # Get feature data without bias column\n",
        "      x = X[:,1]\n",
        "\n",
        "      # Calculate new theta values\n",
        "      temp[0,0] = theta[0,0] - ( alpha * ( np.sum(error) / m ) )\n",
        "      temp[0,1] = theta[0,1] - ( alpha * ( np.sum(np.multiply(error, x)) / m ) )\n",
        "\n",
        "      theta = temp\n",
        "\n",
        "      # Compute the cost\n",
        "      cost = compute_cost(X, y, theta)\n",
        "\n",
        "      if(cost == float('inf')):\n",
        "        print('ERROR: The learning rate, alpha, is too large.')\n",
        "        print()\n",
        "        break;\n",
        "\n",
        "      # Check for convergence.\n",
        "      # If the previous cost is the same as the current cost then\n",
        "      # we have converged to the minimum.\n",
        "      if (iterations > 0 and cost_history[iterations - 1] == cost):\n",
        "        converged = True\n",
        "      else:\n",
        "        # Increase the number of iterations\n",
        "        iterations = iterations + 1\n",
        "        # Track our cost history. We will graph this to see how cost\n",
        "        # decreases with the number of iterations.\n",
        "        cost_history.append(cost)\n",
        "      \n",
        "    return theta, cost_history, iterations"
      ],
      "execution_count": 0,
      "outputs": []
    },
    {
      "cell_type": "code",
      "metadata": {
        "id": "SOPHc7RItlce",
        "colab_type": "code",
        "outputId": "37a64a4f-ba0c-4dab-8ac4-a2cb1a84a4d6",
        "colab": {
          "base_uri": "https://localhost:8080/",
          "height": 70
        }
      },
      "source": [
        "# Run gradent descent and calculate the optimal theta values with the\n",
        "# minimal cost which will directly interstect our data.\n",
        "optimal_theta, cost, iterations = gradient_descent(X, y, theta, alpha = .01)\n",
        "\n",
        "print(f'Optimal theta values: {optimal_theta[0,0]} and {optimal_theta[0,1]}')\n",
        "print(f'Cost................: {cost[iterations - 1]}')\n",
        "print(f'Iterations..........: {iterations:,}')"
      ],
      "execution_count": 148,
      "outputs": [
        {
          "output_type": "stream",
          "text": [
            "Optimal theta values: -3.895778645232485 and 1.1930334198525492\n",
            "Cost................: 4.4769713759756335\n",
            "Iterations..........: 7,976\n"
          ],
          "name": "stdout"
        }
      ]
    },
    {
      "cell_type": "code",
      "metadata": {
        "id": "bzHB51pXf9uN",
        "colab_type": "code",
        "outputId": "bc0666c0-8884-4801-9db4-4029c9cd3813",
        "colab": {
          "base_uri": "https://localhost:8080/",
          "height": 530
        }
      },
      "source": [
        "# Return evenly spaced numbers over a specified interval of 100.\n",
        "x = np.linspace(df_raw.Population.min(), df_raw.Population.max(), 100)\n",
        "f = optimal_theta[0, 0] + (optimal_theta[0, 1] * x)\n",
        "\n",
        "fig, ax = plt.subplots(figsize = (12,8))\n",
        "\n",
        "ax.plot(x, f, 'r', label='Prediction')\n",
        "ax.scatter(df_raw.Population, df_raw.Profit, label='Traning Data')\n",
        "ax.legend(loc = 2)\n",
        "ax.set_xlabel('Population')\n",
        "ax.set_ylabel('Profit')\n",
        "ax.set_title('Predicted Profit vs. Population Size')"
      ],
      "execution_count": 149,
      "outputs": [
        {
          "output_type": "execute_result",
          "data": {
            "text/plain": [
              "Text(0.5, 1.0, 'Predicted Profit vs. Population Size')"
            ]
          },
          "metadata": {
            "tags": []
          },
          "execution_count": 149
        },
        {
          "output_type": "display_data",
          "data": {
            "image/png": "[encoded data removed]",
            "text/plain": [
              "<Figure size 864x576 with 1 Axes>"
            ]
          },
          "metadata": {
            "tags": []
          }
        }
      ]
    },
    {
      "cell_type": "code",
      "metadata": {
        "id": "T_Xyc9z8reJV",
        "colab_type": "code",
        "outputId": "7ae8bed1-5b67-4f6e-ae53-2bf715d9a15d",
        "colab": {
          "base_uri": "https://localhost:8080/",
          "height": 530
        }
      },
      "source": [
        "fig, ax = plt.subplots(figsize=(12,8))\n",
        "ax.plot(np.arange(iterations), cost, 'r')\n",
        "ax.set_xlabel('Iterations')\n",
        "ax.set_ylabel('Cost')\n",
        "ax.set_title('Error vs. Training Epoch')"
      ],
      "execution_count": 150,
      "outputs": [
        {
          "output_type": "execute_result",
          "data": {
            "text/plain": [
              "Text(0.5, 1.0, 'Error vs. Training Epoch')"
            ]
          },
          "metadata": {
            "tags": []
          },
          "execution_count": 150
        },
        {
          "output_type": "display_data",
          "data": {
            "image/png": "[encoded data removed]",
            "text/plain": [
              "<Figure size 864x576 with 1 Axes>"
            ]
          },
          "metadata": {
            "tags": []
          }
        }
      ]
    }
  ]
}