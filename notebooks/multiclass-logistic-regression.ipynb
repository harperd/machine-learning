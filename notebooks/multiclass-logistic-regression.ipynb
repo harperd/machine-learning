{
  "nbformat": 4,
  "nbformat_minor": 0,
  "metadata": {
    "colab": {
      "name": "multiclass-logistic-regression.ipynb",
      "version": "0.3.2",
      "provenance": [],
      "include_colab_link": true
    },
    "kernelspec": {
      "name": "python3",
      "display_name": "Python 3"
    }
  },
  "cells": [
    {
      "cell_type": "markdown",
      "metadata": {
        "id": "view-in-github",
        "colab_type": "text"
      },
      "source": [
        "<a href=\"https://colab.research.google.com/github/harperd/machine-learning/blob/master/notebooks/multiclass-logistic-regression.ipynb\" target=\"_parent\"><img src=\"https://colab.research.google.com/assets/colab-badge.svg\" alt=\"Open In Colab\"/></a>"
      ]
    },
    {
      "cell_type": "markdown",
      "metadata": {
        "id": "RMu0-xrhFSTR",
        "colab_type": "text"
      },
      "source": [
        "# Multiclass Logistic Regression\n",
        "\n",
        "Use logistic regression to recognize hand-written digits (0 to 9)."
      ]
    },
    {
      "cell_type": "markdown",
      "metadata": {
        "id": "h2GQSOFcC6Od",
        "colab_type": "text"
      },
      "source": [
        "## Imports"
      ]
    },
    {
      "cell_type": "code",
      "metadata": {
        "id": "lIbeQTjIFLV9",
        "colab_type": "code",
        "colab": {}
      },
      "source": [
        "import numpy as np\n",
        "import matplotlib.pyplot as plt\n",
        "import matplotlib.style as style\n",
        "import pandas as pd\n",
        "import scipy.optimize as opt\n",
        "import google.colab as colab\n",
        "import io\n",
        "\n",
        "from scipy.io import loadmat\n",
        "\n",
        "# Allow saving our graphs in the notebook\n",
        "%matplotlib inline"
      ],
      "execution_count": 0,
      "outputs": []
    },
    {
      "cell_type": "markdown",
      "metadata": {
        "id": "jQEbEljkroV1",
        "colab_type": "text"
      },
      "source": [
        "Chart Dark Theme For Google Colab Dark Mode"
      ]
    },
    {
      "cell_type": "code",
      "metadata": {
        "id": "2_h2iY6srm7L",
        "colab_type": "code",
        "colab": {}
      },
      "source": [
        "style.use('dark_background')"
      ],
      "execution_count": 0,
      "outputs": []
    },
    {
      "cell_type": "markdown",
      "metadata": {
        "id": "R3ZqURKnCgsa",
        "colab_type": "text"
      },
      "source": [
        "## Read Sample Data"
      ]
    },
    {
      "cell_type": "code",
      "metadata": {
        "id": "Yto5KquyIjpU",
        "colab_type": "code",
        "outputId": "af3192bf-7237-4f8c-a235-d6837fb26323",
        "colab": {
          "resources": {
            "http://localhost:8080/nbextensions/google.colab/files.js": {
              "data": "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",
              "ok": true,
              "headers": [
                [
                  "content-type",
                  "application/javascript"
                ]
              ],
              "status": 200,
              "status_text": ""
            }
          },
          "base_uri": "https://localhost:8080/",
          "height": 128
        }
      },
      "source": [
        "mat_file = colab.files.upload()\n",
        "!ls -l"
      ],
      "execution_count": 3,
      "outputs": [
        {
          "output_type": "display_data",
          "data": {
            "text/html": [
              "\n",
              "     <input type=\"file\" id=\"files-ff8a46c4-6aba-4e5b-a111-9e396b629d81\" name=\"files[]\" multiple disabled />\n",
              "     <output id=\"result-ff8a46c4-6aba-4e5b-a111-9e396b629d81\">\n",
              "      Upload widget is only available when the cell has been executed in the\n",
              "      current browser session. Please rerun this cell to enable.\n",
              "      </output>\n",
              "      <script src=\"/nbextensions/google.colab/files.js\"></script> "
            ],
            "text/plain": [
              "<IPython.core.display.HTML object>"
            ]
          },
          "metadata": {
            "tags": []
          }
        },
        {
          "output_type": "stream",
          "text": [
            "Saving ex3data1.mat to ex3data1.mat\n",
            "total 7340\n",
            "-rw-r--r-- 1 root root 7511764 Jul 31 22:24 ex3data1.mat\n",
            "drwxr-xr-x 1 root root    4096 Jul 19 16:14 sample_data\n"
          ],
          "name": "stdout"
        }
      ]
    },
    {
      "cell_type": "code",
      "metadata": {
        "id": "sh72WN5fGNN8",
        "colab_type": "code",
        "outputId": "d822c492-6899-4a8d-dc0f-b22e044852eb",
        "colab": {
          "base_uri": "https://localhost:8080/",
          "height": 316
        }
      },
      "source": [
        "mat_data = loadmat('ex3data1.mat')\n",
        "mat_data"
      ],
      "execution_count": 4,
      "outputs": [
        {
          "output_type": "execute_result",
          "data": {
            "text/plain": [
              "{'X': array([[0., 0., 0., ..., 0., 0., 0.],\n",
              "        [0., 0., 0., ..., 0., 0., 0.],\n",
              "        [0., 0., 0., ..., 0., 0., 0.],\n",
              "        ...,\n",
              "        [0., 0., 0., ..., 0., 0., 0.],\n",
              "        [0., 0., 0., ..., 0., 0., 0.],\n",
              "        [0., 0., 0., ..., 0., 0., 0.]]),\n",
              " '__globals__': [],\n",
              " '__header__': b'MATLAB 5.0 MAT-file, Platform: GLNXA64, Created on: Sun Oct 16 13:09:09 2011',\n",
              " '__version__': '1.0',\n",
              " 'y': array([[10],\n",
              "        [10],\n",
              "        [10],\n",
              "        ...,\n",
              "        [ 9],\n",
              "        [ 9],\n",
              "        [ 9]], dtype=uint8)}"
            ]
          },
          "metadata": {
            "tags": []
          },
          "execution_count": 4
        }
      ]
    },
    {
      "cell_type": "code",
      "metadata": {
        "id": "2r2DqgKcJRXI",
        "colab_type": "code",
        "outputId": "07d617b6-498b-4bf4-989d-5b39ac4c6407",
        "colab": {
          "base_uri": "https://localhost:8080/",
          "height": 70
        }
      },
      "source": [
        "X = mat_data['X']\n",
        "y = mat_data['y']\n",
        "theta = np.zeros(X.shape[1])\n",
        "\n",
        "print(f'X Shape: {X.shape}')\n",
        "print(f'y Shape: {y.shape}')\n",
        "print(f'Theta Shape: {theta.shape}')"
      ],
      "execution_count": 71,
      "outputs": [
        {
          "output_type": "stream",
          "text": [
            "X Shape: (5000, 400)\n",
            "y Shape: (5000, 1)\n",
            "Theta Shape: (400,)\n"
          ],
          "name": "stdout"
        }
      ]
    },
    {
      "cell_type": "markdown",
      "metadata": {
        "id": "f3JyiN6oO92O",
        "colab_type": "text"
      },
      "source": [
        "![Hand written numbers](https://github.com/harperd/machine-learning/blob/master/images/ex3-1.png?raw=1)"
      ]
    },
    {
      "cell_type": "code",
      "metadata": {
        "id": "DagnmOHRJWaD",
        "colab_type": "code",
        "colab": {
          "base_uri": "https://localhost:8080/",
          "height": 269
        },
        "outputId": "328ea400-ab3b-4d44-f4a4-6b926b372862"
      },
      "source": [
        "def sigmoid(z):\n",
        "  return 1 / ( 1 + np.exp(-z) )\n",
        "\n",
        "nums = np.arange(-10, 10, step = 1)\n",
        "\n",
        "fig, ax = plt.subplots()\n",
        "ax.plot(nums, sigmoid(nums), 'r')\n",
        "\n",
        "plt.show()"
      ],
      "execution_count": 41,
      "outputs": [
        {
          "output_type": "display_data",
          "data": {
            "image/png": "[encoded data removed]",
            "text/plain": [
              "<Figure size 432x288 with 1 Axes>"
            ]
          },
          "metadata": {
            "tags": []
          }
        }
      ]
    },
    {
      "cell_type": "code",
      "metadata": {
        "id": "uV1LSYsXPX8E",
        "colab_type": "code",
        "colab": {}
      },
      "source": [
        "def compute_hypothesis(theta, X):\n",
        "  # Compute our hypothesis\n",
        "  z = X @ theta.T\n",
        "\n",
        "  # Scale our hypothesis using Sigmoid\n",
        "  # Here, if the parameter is zero then the sigmoid value will be 0.5.\n",
        "  h = sigmoid(z)\n",
        "  \n",
        "  return h"
      ],
      "execution_count": 0,
      "outputs": []
    },
    {
      "cell_type": "code",
      "metadata": {
        "id": "Z-HfxOfAPcW8",
        "colab_type": "code",
        "colab": {
          "base_uri": "https://localhost:8080/",
          "height": 34
        },
        "outputId": "e1133976-3bdc-4663-97fa-5e39875e22e7"
      },
      "source": [
        "def compute_cost(theta, X, y):\n",
        "  # Fix for minimize function\n",
        "  theta = np.array(theta, ndmin = 2)\n",
        "  X = np.array(X, ndmin = 2)\n",
        "  y = np.array(y, ndmin = 2)\n",
        "\n",
        "  # Compute our hypothesis\n",
        "  h = compute_hypothesis(theta, X)\n",
        "    \n",
        "  first = np.log(h) * -y\n",
        "  second = np.log(1 - h) * (1 - y)\n",
        "\n",
        "  # The number of examples\n",
        "  m = len(y)\n",
        "  \n",
        "  return np.sum(first - second) / m\n",
        "\n",
        "cost = compute_cost(theta, X, y)\n",
        "print(f'Cost = {cost}')"
      ],
      "execution_count": 75,
      "outputs": [
        {
          "output_type": "stream",
          "text": [
            "Cost = -17.051420641774662\n"
          ],
          "name": "stdout"
        }
      ]
    },
    {
      "cell_type": "code",
      "metadata": {
        "id": "QMmza1f3QjVH",
        "colab_type": "code",
        "colab": {
          "base_uri": "https://localhost:8080/",
          "height": 1000
        },
        "outputId": "d94d1f30-eeca-4f4a-cdfc-94b4e0eb2633"
      },
      "source": [
        "def compute_gradient(theta, X, y):\n",
        "  # Fix for minimize function\n",
        "  theta = np.array(theta, ndmin = 2)\n",
        "  X = np.array(X, ndmin = 2)\n",
        "  y = np.array(y, ndmin = 2)\n",
        "  \n",
        "  # Compute our hypothesis\n",
        "  h = compute_hypothesis(theta, X)\n",
        "    \n",
        "  # Get the error\n",
        "  error = h - y\n",
        "\n",
        "  # The number of examples\n",
        "  m = len(y)\n",
        "\n",
        "  # Calculate the gradient\n",
        "  gradient = ( error.T @ X ) / m\n",
        "\n",
        "  return gradient\n",
        "  \n",
        "compute_gradient(theta, X, y)"
      ],
      "execution_count": 79,
      "outputs": [
        {
          "output_type": "execute_result",
          "data": {
            "text/plain": [
              "array([[ 0.00000000e+00,  0.00000000e+00, -7.74530186e-08,\n",
              "         3.19876600e-06,  1.89536237e-05, -7.06376094e-04,\n",
              "        -8.97395355e-04, -3.72741263e-04, -1.10787541e-04,\n",
              "        -1.37049401e-04, -4.11905416e-05,  3.09307938e-05,\n",
              "         7.56273049e-05,  1.66101324e-04,  1.88959823e-04,\n",
              "         1.11618541e-04,  3.44740605e-05,  2.31849497e-07,\n",
              "        -3.65944989e-07,  0.00000000e+00, -2.71480120e-07,\n",
              "         2.68348312e-06,  1.35802658e-06,  5.10971729e-05,\n",
              "         9.29459372e-05, -1.13518367e-03, -4.04630781e-03,\n",
              "        -5.65616107e-03, -4.38249876e-03, -1.22936584e-03,\n",
              "         1.06402725e-03,  1.67724463e-03,  1.83122226e-03,\n",
              "         1.41359436e-03,  1.00669534e-03,  6.22600175e-04,\n",
              "         2.88468971e-04,  1.69300222e-04,  4.53328568e-05,\n",
              "         1.64277642e-05,  2.32894093e-06, -2.61429416e-05,\n",
              "         6.07579192e-05, -2.68789968e-04, -2.19152610e-03,\n",
              "        -1.11673884e-02, -2.41869621e-02, -3.12963830e-02,\n",
              "        -2.35164217e-02, -1.04915336e-02, -4.58342103e-03,\n",
              "        -2.20552420e-03, -7.25689198e-03, -1.98220888e-02,\n",
              "        -2.48313796e-02, -1.34236274e-02, -3.68460614e-03,\n",
              "        -8.31286716e-04,  1.20163793e-04, -9.42864675e-05,\n",
              "         9.81812364e-06, -4.84781693e-05, -3.22216282e-04,\n",
              "        -4.37083228e-03, -1.56078501e-02, -5.51743564e-02,\n",
              "        -1.02255046e-01, -1.30953454e-01, -1.35603926e-01,\n",
              "        -1.44986313e-01, -1.83117808e-01, -2.23883398e-01,\n",
              "        -2.66529386e-01, -2.88212315e-01, -2.61481699e-01,\n",
              "        -1.68468511e-01, -6.60981462e-02, -1.54880439e-02,\n",
              "        -4.76585598e-03, -1.16342219e-03,  1.18945364e-05,\n",
              "         1.03519679e-04, -1.58746689e-03, -1.38591538e-02,\n",
              "        -5.31432174e-02, -1.49280120e-01, -2.84733107e-01,\n",
              "        -3.88598873e-01, -4.71401523e-01, -5.80730831e-01,\n",
              "        -6.96410402e-01, -7.56804731e-01, -7.69798074e-01,\n",
              "        -7.94228138e-01, -7.79978205e-01, -5.91391003e-01,\n",
              "        -2.83839005e-01, -7.68726609e-02, -2.75779379e-02,\n",
              "        -6.36470243e-03, -1.67647949e-04, -5.62462566e-04,\n",
              "        -4.04153318e-03, -3.99032106e-02, -1.49971197e-01,\n",
              "        -4.04324105e-01, -7.36798412e-01, -9.88293896e-01,\n",
              "        -1.19208507e+00, -1.37748702e+00, -1.42634895e+00,\n",
              "        -1.33379635e+00, -1.23709688e+00, -1.24573198e+00,\n",
              "        -1.32430524e+00, -1.20674476e+00, -7.39019568e-01,\n",
              "        -2.67115070e-01, -9.78870874e-02, -1.77541188e-02,\n",
              "        -3.50514798e-04, -2.58326183e-03, -1.31526129e-02,\n",
              "        -9.90988481e-02, -3.61743989e-01, -8.91212541e-01,\n",
              "        -1.43978937e+00, -1.83400378e+00, -2.03530387e+00,\n",
              "        -2.09106126e+00, -1.94875603e+00, -1.70583955e+00,\n",
              "        -1.47968961e+00, -1.42197323e+00, -1.59395506e+00,\n",
              "        -1.70112843e+00, -1.32199039e+00, -5.71019694e-01,\n",
              "        -1.87374529e-01, -2.77737534e-02, -2.42273365e-05,\n",
              "        -4.61268517e-03, -3.34155999e-02, -2.34863666e-01,\n",
              "        -7.61809493e-01, -1.59177759e+00, -2.29905165e+00,\n",
              "        -2.57121022e+00, -2.43751707e+00, -2.23369364e+00,\n",
              "        -2.01875596e+00, -1.80614071e+00, -1.53006820e+00,\n",
              "        -1.42070936e+00, -1.68184891e+00, -2.09958108e+00,\n",
              "        -1.93377422e+00, -9.20038031e-01, -2.58339525e-01,\n",
              "        -3.57604260e-02,  7.01455287e-05, -4.50548865e-03,\n",
              "        -6.60670514e-02, -4.62046158e-01, -1.27970131e+00,\n",
              "        -2.29298357e+00, -2.82056128e+00, -2.54656738e+00,\n",
              "        -2.06471118e+00, -1.88491857e+00, -1.91108189e+00,\n",
              "        -1.84048875e+00, -1.48740536e+00, -1.34270417e+00,\n",
              "        -1.78537985e+00, -2.43529719e+00, -2.34020543e+00,\n",
              "        -1.11854653e+00, -2.64343565e-01, -3.91437067e-02,\n",
              "         6.77499746e-04, -7.74385868e-03, -1.21859198e-01,\n",
              "        -7.54696017e-01, -1.83235136e+00, -2.78988367e+00,\n",
              "        -2.74378700e+00, -1.93846031e+00, -1.44960100e+00,\n",
              "        -1.57817643e+00, -1.97150934e+00, -1.94220020e+00,\n",
              "        -1.55975916e+00, -1.55128537e+00, -2.12740282e+00,\n",
              "        -2.68684099e+00, -2.38247716e+00, -1.11127240e+00,\n",
              "        -2.54922447e-01, -4.15072910e-02,  1.97325664e-03,\n",
              "        -1.90561252e-02, -2.04456025e-01, -1.06271632e+00,\n",
              "        -2.30782957e+00, -2.93581416e+00, -2.31623799e+00,\n",
              "        -1.35382594e+00, -1.13176728e+00, -1.65297269e+00,\n",
              "        -2.24113272e+00, -2.23590726e+00, -2.01171354e+00,\n",
              "        -2.06963344e+00, -2.48159101e+00, -2.67620297e+00,\n",
              "        -2.06629384e+00, -9.28720584e-01, -2.36274184e-01,\n",
              "        -3.87815696e-02,  3.15902809e-03, -3.48183384e-02,\n",
              "        -2.75037929e-01, -1.21620534e+00, -2.42195595e+00,\n",
              "        -2.83889337e+00, -2.10857396e+00, -1.38568584e+00,\n",
              "        -1.48048105e+00, -2.16226127e+00, -2.63134846e+00,\n",
              "        -2.54432292e+00, -2.32799537e+00, -2.33124490e+00,\n",
              "        -2.52236547e+00, -2.33883379e+00, -1.56454456e+00,\n",
              "        -6.73669442e-01, -1.90194969e-01, -2.83831225e-02,\n",
              "         4.09572057e-03, -4.20827773e-02, -2.75134637e-01,\n",
              "        -1.13091175e+00, -2.17738398e+00, -2.65227384e+00,\n",
              "        -2.26903773e+00, -1.90192356e+00, -2.09249377e+00,\n",
              "        -2.48994794e+00, -2.58868429e+00, -2.40482668e+00,\n",
              "        -2.22716736e+00, -2.25014771e+00, -2.20867847e+00,\n",
              "        -1.72189058e+00, -9.97029842e-01, -4.09836452e-01,\n",
              "        -1.27133728e-01, -1.70580543e-02,  3.13993466e-03,\n",
              "        -3.03361535e-02, -1.92633016e-01, -8.31583414e-01,\n",
              "        -1.69925560e+00, -2.30632080e+00, -2.35531159e+00,\n",
              "        -2.22170039e+00, -2.21056073e+00, -2.12956569e+00,\n",
              "        -1.95520074e+00, -1.85964612e+00, -1.84542272e+00,\n",
              "        -1.81571146e+00, -1.56096965e+00, -1.04233201e+00,\n",
              "        -5.40265087e-01, -2.15225136e-01, -6.36812454e-02,\n",
              "        -6.55875358e-03,  1.16280921e-03, -1.37871691e-02,\n",
              "        -9.69631631e-02, -5.05256347e-01, -1.13694473e+00,\n",
              "        -1.75436237e+00, -2.02203013e+00, -1.98265074e+00,\n",
              "        -1.77567633e+00, -1.53252469e+00, -1.41101985e+00,\n",
              "        -1.40737913e+00, -1.38029305e+00, -1.20247919e+00,\n",
              "        -9.01544086e-01, -5.24493973e-01, -2.50542382e-01,\n",
              "        -1.11804927e-01, -3.72537400e-02, -3.00173078e-03,\n",
              "         1.42120275e-04, -3.23306457e-03, -3.11719229e-02,\n",
              "        -2.41682228e-01, -6.23768336e-01, -1.04570818e+00,\n",
              "        -1.28992138e+00, -1.25461098e+00, -1.09387791e+00,\n",
              "        -1.00255263e+00, -9.71125512e-01, -9.28781944e-01,\n",
              "        -8.17053514e-01, -6.24953386e-01, -3.99352484e-01,\n",
              "        -1.95206305e-01, -9.23110091e-02, -4.84489174e-02,\n",
              "        -1.92006244e-02, -2.66848220e-03, -6.90103486e-06,\n",
              "         3.94135989e-04, -8.80224656e-03, -1.08845141e-01,\n",
              "        -3.09772003e-01, -5.15584061e-01, -6.02798155e-01,\n",
              "        -5.71924935e-01, -5.35617527e-01, -5.47558902e-01,\n",
              "        -5.41896445e-01, -4.87398855e-01, -3.78179794e-01,\n",
              "        -2.49598514e-01, -1.39609144e-01, -6.35372822e-02,\n",
              "        -2.84109208e-02, -1.42635428e-02, -5.55548256e-03,\n",
              "        -9.60041221e-04,  1.21246535e-05,  3.07941317e-04,\n",
              "        -8.29499578e-04, -3.27515866e-02, -1.13416133e-01,\n",
              "        -1.82518143e-01, -1.70239493e-01, -1.17195094e-01,\n",
              "        -1.20420331e-01, -1.48864951e-01, -1.53785281e-01,\n",
              "        -1.35096198e-01, -9.99232975e-02, -5.44781977e-02,\n",
              "        -2.84421681e-02, -1.46130827e-02, -4.33751539e-03,\n",
              "        -9.44593753e-04, -5.18773141e-04,  6.48827912e-05,\n",
              "        -4.87642974e-07,  6.27297794e-07,  4.61410941e-04,\n",
              "        -1.98848770e-03, -1.99058091e-02, -3.94984584e-02,\n",
              "        -2.38204539e-02, -2.46369638e-03,  1.53081819e-03,\n",
              "         6.72133437e-04, -1.00297948e-03, -1.28705371e-03,\n",
              "        -2.70333767e-03, -9.27770272e-04, -9.76466699e-04,\n",
              "        -1.98728743e-03, -5.19279352e-04,  2.57396529e-04,\n",
              "         7.32073291e-05,  6.74947236e-06,  0.00000000e+00,\n",
              "        -1.24208538e-06,  2.17199105e-05,  5.41709746e-05,\n",
              "        -1.98024228e-03, -2.96636389e-03, -5.73778952e-04,\n",
              "         1.47668056e-04, -7.64967266e-04,  1.70864299e-04,\n",
              "         5.90507649e-04,  1.77705465e-04, -1.28301985e-04,\n",
              "         1.35333512e-04, -1.94108711e-04, -4.59449934e-04,\n",
              "        -1.17801181e-04,  7.28764624e-06,  6.02839052e-07,\n",
              "         0.00000000e+00]])"
            ]
          },
          "metadata": {
            "tags": []
          },
          "execution_count": 79
        }
      ]
    }
  ]
}