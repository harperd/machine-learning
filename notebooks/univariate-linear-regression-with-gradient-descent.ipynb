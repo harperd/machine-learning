{
  "nbformat": 4,
  "nbformat_minor": 0,
  "metadata": {
    "colab": {
      "name": "univariate-linear-regression-with-gradient-descent.ipynb",
      "version": "0.3.2",
      "provenance": [],
      "collapsed_sections": [],
      "include_colab_link": true
    },
    "kernelspec": {
      "name": "python3",
      "display_name": "Python 3"
    }
  },
  "cells": [
    {
      "cell_type": "markdown",
      "metadata": {
        "id": "view-in-github",
        "colab_type": "text"
      },
      "source": [
        "<a href=\"https://colab.research.google.com/github/harperd/machine-learning/blob/master/notebooks/univariate-linear-regression-with-gradient-descent.ipynb\" target=\"_parent\"><img src=\"https://colab.research.google.com/assets/colab-badge.svg\" alt=\"Open In Colab\"/></a>"
      ]
    },
    {
      "cell_type": "markdown",
      "metadata": {
        "id": "TY5PT6bd4V65",
        "colab_type": "text"
      },
      "source": [
        "# Univariate Linear Regression and Gradient Descent"
      ]
    },
    {
      "cell_type": "markdown",
      "metadata": {
        "id": "vY0aXI4RCl7E",
        "colab_type": "text"
      },
      "source": [
        "## Import Python Packages"
      ]
    },
    {
      "cell_type": "code",
      "metadata": {
        "id": "4kq34XhwCpyd",
        "colab_type": "code",
        "colab": {}
      },
      "source": [
        "# NumPy adds support for large, multi-dimensional arrays and matrices, along with a large collection \n",
        "# of high-level mathematical functions to operate on these arrays.\n",
        "import numpy as np\n",
        "\n",
        "# Matplotlib is a plotting library for the Python programming language and its numerical mathematics \n",
        "# extension NumPy. It provides an object-oriented API for embedding plots into applications using \n",
        "# general-purpose GUI toolkits like Tkinter, wxPython, Qt, or GTK+.\n",
        "import matplotlib.pyplot as plt\n",
        "%matplotlib inline\n",
        "\n",
        "# Pandas is a software library for data manipulation and analysis. In particular, it offers data \n",
        "# structures and operations for manipulating numerical tables and time series.\n",
        "import pandas as pd"
      ],
      "execution_count": 0,
      "outputs": []
    },
    {
      "cell_type": "markdown",
      "metadata": {
        "id": "zek8oIAP5YQH",
        "colab_type": "text"
      },
      "source": [
        "# Hypothesis Function\n",
        "\n",
        "In machine learning, a *hypothesis* function is used to predict outcomes or $y$ values. Below is the univariate linear regression hypothesis function where theta ($\\theta$) can represent any two numbers and $h_\\theta(x)$ or $y$ is our *prediction*. We just have to figure out what those two numbers are that allow the function to best intersect our data or features. It's a simple linear equation but finding the best theta values is where the challenge lies.\n",
        "\n",
        "> $h_{\\theta }( x) =\\theta _{0} \\ +\\ \\theta _{1} x$"
      ]
    },
    {
      "cell_type": "code",
      "metadata": {
        "id": "lFuhgcny3XzC",
        "colab_type": "code",
        "colab": {}
      },
      "source": [
        "# Hypothesis Function - This function will compute predictions for all features. \n",
        "#\n",
        "# Parameters\n",
        "#     theta: The two theta values as an array [ theta1, theta2 ]\n",
        "#     X: A DataFrame containing the features to create predictions against.\n",
        "def hypothesis(theta, X):\n",
        "    # Here, X is a Pandas DataFrame containing all of our data.\n",
        "    # X.shape returns tuple of the shape's dimentions in rows x columns.\n",
        "    # Therefore, X.shape[0] will get us the number of rows, or features.\n",
        "    num_features = len(X)\n",
        "    \n",
        "    # numpy.ones returns a new array of given shape, filled with ones.\n",
        "    # Here, we want a new array (vector) of size num_features x 1 (rows x columns).\n",
        "    h = np.ones((num_features, 1))\n",
        "    \n",
        "    # Loop through each feature (x) in our data set.\n",
        "    #\n",
        "    # TODO: Perform this in a more optimal manner using matrix multiplication\n",
        "    #       against the entire feature set, X.\n",
        "    for i in range(0, num_features):\n",
        "        # Get the next feature value.\n",
        "        feature_value = X[i]\n",
        "        \n",
        "        # Here, we are going to concatinate a 1x1 vector containing the value \n",
        "        # of 1 with a 1x1 vector containing the feature value with the result \n",
        "        # being a 1x2 vector.\n",
        "        #\n",
        "        # After the concatination, our 1x2 vector resembles the below, if our\n",
        "        # feature_value = 3:\n",
        "        #\n",
        "        #    x = [ 1 3 ]\n",
        "        #\n",
        "        vector_one = np.ones(1)\n",
        "        vector_feature = np.array(feature_value)\n",
        "        \n",
        "        x = np.concatenate((vector_one, vector_feature), axis = 0)\n",
        "        \n",
        "        # Finally, we multiply the vector x with our two theta values and\n",
        "        # assign it to h[i]:\n",
        "        #\n",
        "        # h[i] = [ theta1 theta2 ] * [ 1 feature ]\n",
        "        #\n",
        "        h[i] = float(np.matmul(theta, x))\n",
        "    \n",
        "    return h"
      ],
      "execution_count": 0,
      "outputs": []
    },
    {
      "cell_type": "markdown",
      "metadata": {
        "id": "3FlSz41X0sSx",
        "colab_type": "text"
      },
      "source": [
        "We can choose good theta values by using the *Cost Function* denoted as $J(\\theta_{0}, \\theta_{1})$ where  $\\theta_{0}$, and $\\theta_{1}$ points on the $x$,$y$ axis and $J(\\theta_{0}, \\theta_{1})$ is *z*. This is also called the *Squared Error Function* which is the most commonly used for linear regression problems. Here, we want to get the results of our cost function as close to zero as possible by trying different values for $\\theta _{0}$ and $\\theta _{1}$.\n",
        "\n",
        "> $\\large J( \\theta _{0} ,\\ \\theta _{1}) =\\frac{1}{2m}\\sum\\limits ^{m}_{i=1}\\left( h_{\\theta }\\left( x^{( i)}\\right) -y^{( i)}\\right)^{2}$"
      ]
    },
    {
      "cell_type": "code",
      "metadata": {
        "id": "SOZtjTK-0tj6",
        "colab_type": "code",
        "colab": {}
      },
      "source": [
        "def compute_cost(theta, X, y):\n",
        "  # Get the number of examples\n",
        "  m = len(y)\n",
        "  \n",
        "  # Perform matrix multiplication between our feature set X and theta values.\n",
        "  predictions = hypothesis(theta, X)\n",
        "  \n",
        "  # Compute the cost of the predictions\n",
        "  cost = np.sum(np.square(predictions - y)) / (2*m)\n",
        "  \n",
        "  return cost"
      ],
      "execution_count": 0,
      "outputs": []
    },
    {
      "cell_type": "markdown",
      "metadata": {
        "id": "RNVDoV-Kypjm",
        "colab_type": "text"
      },
      "source": [
        "## Gradient Descent\n",
        "\n",
        "What *Gradient Descent* algorithm does is *simultaneously* compute values for $\\theta_{0}$ and $\\theta_{1}$. What is meant by *simultaneously* is represented in the pseudo code below where $\\theta_{0}$ and $\\theta_{1}$ are assigned new values at the same time. In other words, if $\\theta_{0}$ was set ($\\theta_{0} :=$ *temp0*) *before* temp1 was set (*temp1* $:= \\theta_{1}-\\alpha\\frac{\\partial}{\\partial\\theta_{1}}J(\\theta_{0},\\theta_{1})$) then it would affect the results of temp1 and yield incorrect results. We want to repeat this series of steps until we reach *convergence* or $\\theta_{0}$ and $\\theta_{1}$ are at their minimum.\n",
        "\n",
        ">*repeat until convergence {* \n",
        "\n",
        ">$temp 0:= \\theta_{0}-\\alpha\\frac{1}{m}\\sum\\limits ^{m}_{i=1}\\left( h_{\\theta }\\left( x^{(i)}\\right) -y^{( i)}\\right)$\n",
        "\n",
        ">$temp1 := \\theta_{1}-\\alpha\\frac{1}{m}\\sum\\limits ^{m}_{i=1}\\left( h_{\\theta }\\left( x^{(i)}\\right) -y^{( i)}\\right)\\cdot x^{(i)}$\n",
        "\n",
        ">$\\theta_{0} := temp0$\n",
        "\n",
        ">$\\theta_{1} := temp1$\n",
        "\n",
        ">*}* "
      ]
    },
    {
      "cell_type": "code",
      "metadata": {
        "id": "bXSHg54IOXLr",
        "colab_type": "code",
        "colab": {}
      },
      "source": [
        "def gradient_descent2(theta, alpha, X, y):\n",
        "   # Get the number of examples\n",
        "    m = len(y)\n",
        "\n",
        "    converged = False\n",
        "    report = []\n",
        "    iteration = 1\n",
        "    p_theta = [ -1, -1 ]\n",
        "    temp = [ 0, 0 ]\n",
        "    \n",
        "    X[:,:-1] = np.ones(1)\n",
        "\n",
        "    # Keep trying until we have converged at the local minimum.\n",
        "    while(not converged):\n",
        "        # Try a prediction with current theta values.\n",
        "        # y = h(x)\n",
        "        predictions = hypothesis(theta, X)\n",
        "        \n",
        "        # Compute the cost i.e. J(theta0, theta1)\n",
        "        cost = compute_cost(theta, X, y)\n",
        "        \n",
        "        #temp[0]=theta[0]-(alpha)*((np.sum(predictions-y))/m)\n",
        "        #temp[1]=theta[1]-(alpha)*((np.sum((predictions-y)*X))/m)\n",
        "        #theta=temp\n",
        " \n",
        "\n",
        "        #temp[0] = theta[0] - alpha * (np.sum(predictions - y) / m)\n",
        "        #temp[1] = theta[1] - alpha * (np.sum(np.matmul(predictions - y, X.T)) / m)\n",
        "    \n",
        "        temp = theta - alpha * ((np.matmul(hypothesis(theta, predictions - y), X.T)) / m)\n",
        " \n",
        "        theta = temp\n",
        "        \n",
        "       # print('theta = ' + str(theta))\n",
        "       # print('p_theta = ' + str(p_theta))\n",
        "        \n",
        "        # Check to see if we have converged or not.\n",
        "        converged = theta[0] == p_theta[0] and theta[1] == p_theta[1]\n",
        "        \n",
        "        # Set the optimal theta to the current theta.\n",
        "        p_theta = theta\n",
        "        \n",
        "        # Get data to report\n",
        "        if(iteration % 20 == 0 or converged):\n",
        "          report.append([ \n",
        "              'Converged -->' if converged else '', \n",
        "              iteration, \n",
        "              cost, \n",
        "              theta[0], \n",
        "              theta[1]])\n",
        "\n",
        "        iteration = iteration + 1\n",
        "        \n",
        "    # Convert our report data to a Pandas DataFrame for better rendering.\n",
        "    df_report = pd.DataFrame(\n",
        "        report, \n",
        "        columns = [ 'Converged', 'Iteration', 'Cost', 'Theta0', 'Theta1' ]);\n",
        "\n",
        "    return theta, df_report"
      ],
      "execution_count": 0,
      "outputs": []
    },
    {
      "cell_type": "code",
      "metadata": {
        "id": "P-PzzJB86cP7",
        "colab_type": "code",
        "colab": {}
      },
      "source": [
        "# Helper function to see if we have converged to the local minimum.\n",
        "def is_converged(c_theta, p_theta):\n",
        "  return c_theta[0] == p_theta[0] and c_theta[1] == p_theta[1]\n",
        "\n",
        "# Gradient Descent Algorithm - Performs Gradient Descent.\n",
        "#\n",
        "# Parameters\n",
        "#     theta: The two theta values as an array [ theta1, theta2 ]\n",
        "#     alpha: The learning rate.\n",
        "#     iterations: The number of iterations to perform.\n",
        "#     X: The feature set.\n",
        "#     y: The target variable set.\n",
        "def gradient_descent(theta, alpha, X, y):\n",
        "    # Get the number of examples\n",
        "    m = len(y)\n",
        "\n",
        "    converged = False\n",
        "    report = []\n",
        "    optimal_theta = theta\n",
        "    iteration = 1\n",
        "\n",
        "    # Keep trying until we have converged at the local minimum.\n",
        "    while(not converged):\n",
        "        # Try a prediction with current theta values.\n",
        "        # y = h(x)\n",
        "        predictions = hypothesis(theta, X)\n",
        "        \n",
        "        # Compute the cost i.e. J(theta0, theta1)\n",
        "        cost = compute_cost(theta, X, y)\n",
        "        \n",
        "        # Compute the average gradient per example.\n",
        "        # 1/m * sum(h(x) - y) * X\n",
        "        gradient = np.dot(X.T, predictions - y) / m\n",
        "        \n",
        "        # Update theta\n",
        "        theta = ( theta - alpha * gradient )\n",
        "        theta = theta[len(theta) - 1]\n",
        "        \n",
        "        # Check to see if we have converged or not.\n",
        "        converged = is_converged(theta, optimal_theta)\n",
        "        \n",
        "        # Set the optimal theta to the current theta.\n",
        "        optimal_theta = theta\n",
        "        \n",
        "        # Get data to report\n",
        "        if(iteration % 20 == 0 or converged):\n",
        "          report.append([ \n",
        "              'Converged -->' if converged else '', \n",
        "              iteration, \n",
        "              cost, \n",
        "              optimal_theta[0], \n",
        "              optimal_theta[1]])\n",
        "\n",
        "        iteration = iteration + 1\n",
        "        \n",
        "    # Convert our report data to a Pandas DataFrame for better rendering.\n",
        "    df_report = pd.DataFrame(\n",
        "        report, \n",
        "        columns = [ 'Converged', 'Iteration', 'Cost', 'Theta0', 'Theta1' ]);\n",
        "\n",
        "    return optimal_theta, df_report"
      ],
      "execution_count": 0,
      "outputs": []
    },
    {
      "cell_type": "code",
      "metadata": {
        "id": "S_J5gBlV6aA1",
        "colab_type": "code",
        "outputId": "4ad3f035-e3cf-43c7-cfa5-79df2bfc4394",
        "colab": {
          "base_uri": "https://localhost:8080/",
          "height": 378
        }
      },
      "source": [
        "# Generate random samples\n",
        "num_samples = 10\n",
        "\n",
        "# Generate some random inpendent variables (features)\n",
        "X = pd.DataFrame(2 * np.random.rand(num_samples, 1), columns = [ 'Feature' ])\n",
        "\n",
        "# Add a bias column of all ones to the beginning of our DataFrame\n",
        "# since theta0 will not have a feature.\n",
        "X.insert(0, 'bias', np.ones(num_samples))\n",
        "\n",
        "# Generate some random depenant variables\n",
        "X = X.join(pd.DataFrame(4 + 3 * X.as_matrix(columns=X.columns[1:]) + np.random.randn(num_samples, 1), columns = [ 'Outcome' ]))\n",
        "\n",
        "X\n",
        "                                                                \n",
        "# Plot our random samples\n",
        "#plt.plot(X.values, y.values, 'b.')\n",
        "#plt.xlabel(\"$x$\", fontsize=18)\n",
        "#plt.ylabel(\"$y$\", rotation=0, fontsize=18)\n",
        "#_ =plt.axis([0,2,0,15])"
      ],
      "execution_count": 129,
      "outputs": [
        {
          "output_type": "stream",
          "text": [
            "/usr/local/lib/python3.6/dist-packages/ipykernel_launcher.py:11: FutureWarning: Method .as_matrix will be removed in a future version. Use .values instead.\n",
            "  # This is added back by InteractiveShellApp.init_path()\n"
          ],
          "name": "stderr"
        },
        {
          "output_type": "execute_result",
          "data": {
            "text/html": [
              "<div>\n",
              "<style scoped>\n",
              "    .dataframe tbody tr th:only-of-type {\n",
              "        vertical-align: middle;\n",
              "    }\n",
              "\n",
              "    .dataframe tbody tr th {\n",
              "        vertical-align: top;\n",
              "    }\n",
              "\n",
              "    .dataframe thead th {\n",
              "        text-align: right;\n",
              "    }\n",
              "</style>\n",
              "<table border=\"1\" class=\"dataframe\">\n",
              "  <thead>\n",
              "    <tr style=\"text-align: right;\">\n",
              "      <th></th>\n",
              "      <th>bias</th>\n",
              "      <th>Feature</th>\n",
              "      <th>Outcome</th>\n",
              "    </tr>\n",
              "  </thead>\n",
              "  <tbody>\n",
              "    <tr>\n",
              "      <th>0</th>\n",
              "      <td>1.0</td>\n",
              "      <td>1.075207</td>\n",
              "      <td>7.543828</td>\n",
              "    </tr>\n",
              "    <tr>\n",
              "      <th>1</th>\n",
              "      <td>1.0</td>\n",
              "      <td>1.198582</td>\n",
              "      <td>6.538832</td>\n",
              "    </tr>\n",
              "    <tr>\n",
              "      <th>2</th>\n",
              "      <td>1.0</td>\n",
              "      <td>0.669181</td>\n",
              "      <td>6.886811</td>\n",
              "    </tr>\n",
              "    <tr>\n",
              "      <th>3</th>\n",
              "      <td>1.0</td>\n",
              "      <td>0.731653</td>\n",
              "      <td>5.322457</td>\n",
              "    </tr>\n",
              "    <tr>\n",
              "      <th>4</th>\n",
              "      <td>1.0</td>\n",
              "      <td>1.872674</td>\n",
              "      <td>7.166983</td>\n",
              "    </tr>\n",
              "    <tr>\n",
              "      <th>5</th>\n",
              "      <td>1.0</td>\n",
              "      <td>1.110586</td>\n",
              "      <td>9.195941</td>\n",
              "    </tr>\n",
              "    <tr>\n",
              "      <th>6</th>\n",
              "      <td>1.0</td>\n",
              "      <td>1.909329</td>\n",
              "      <td>9.539656</td>\n",
              "    </tr>\n",
              "    <tr>\n",
              "      <th>7</th>\n",
              "      <td>1.0</td>\n",
              "      <td>0.764470</td>\n",
              "      <td>6.987822</td>\n",
              "    </tr>\n",
              "    <tr>\n",
              "      <th>8</th>\n",
              "      <td>1.0</td>\n",
              "      <td>1.508291</td>\n",
              "      <td>7.277869</td>\n",
              "    </tr>\n",
              "    <tr>\n",
              "      <th>9</th>\n",
              "      <td>1.0</td>\n",
              "      <td>1.822638</td>\n",
              "      <td>10.024566</td>\n",
              "    </tr>\n",
              "  </tbody>\n",
              "</table>\n",
              "</div>"
            ],
            "text/plain": [
              "   bias   Feature    Outcome\n",
              "0   1.0  1.075207   7.543828\n",
              "1   1.0  1.198582   6.538832\n",
              "2   1.0  0.669181   6.886811\n",
              "3   1.0  0.731653   5.322457\n",
              "4   1.0  1.872674   7.166983\n",
              "5   1.0  1.110586   9.195941\n",
              "6   1.0  1.909329   9.539656\n",
              "7   1.0  0.764470   6.987822\n",
              "8   1.0  1.508291   7.277869\n",
              "9   1.0  1.822638  10.024566"
            ]
          },
          "metadata": {
            "tags": []
          },
          "execution_count": 129
        }
      ]
    },
    {
      "cell_type": "code",
      "metadata": {
        "id": "3tSfsgQE-1rv",
        "colab_type": "code",
        "outputId": "a4f72c3e-575e-454a-d8e9-b4d803996a79",
        "colab": {
          "base_uri": "https://localhost:8080/",
          "height": 385
        }
      },
      "source": [
        "# Initialize theta and set our learning rate.\n",
        "theta = [ 0, 0 ]\n",
        "learning_rate = 0.1\n",
        "\n",
        "# Perform Gradient Descent\n",
        "theta, report = gradient_descent(theta, learning_rate, X, y)\n",
        "\n",
        "# Show the Gradent Descent report\n",
        "pd.option_context('display.float_format', '{:,.20f}'.format)\n",
        "report"
      ],
      "execution_count": 97,
      "outputs": [
        {
          "output_type": "error",
          "ename": "KeyboardInterrupt",
          "evalue": "ignored",
          "traceback": [
            "\u001b[0;31m---------------------------------------------------------------------------\u001b[0m",
            "\u001b[0;31mKeyboardInterrupt\u001b[0m                         Traceback (most recent call last)",
            "\u001b[0;32m<ipython-input-97-45caece3cf03>\u001b[0m in \u001b[0;36m<module>\u001b[0;34m()\u001b[0m\n\u001b[1;32m      3\u001b[0m \u001b[0;34m\u001b[0m\u001b[0m\n\u001b[1;32m      4\u001b[0m \u001b[0;31m# Perform Gradient Descent\u001b[0m\u001b[0;34m\u001b[0m\u001b[0;34m\u001b[0m\u001b[0;34m\u001b[0m\u001b[0m\n\u001b[0;32m----> 5\u001b[0;31m \u001b[0mtheta\u001b[0m\u001b[0;34m,\u001b[0m \u001b[0mreport\u001b[0m \u001b[0;34m=\u001b[0m \u001b[0mgradient_descent\u001b[0m\u001b[0;34m(\u001b[0m\u001b[0mtheta\u001b[0m\u001b[0;34m,\u001b[0m \u001b[0mlearning_rate\u001b[0m\u001b[0;34m,\u001b[0m \u001b[0mX\u001b[0m\u001b[0;34m,\u001b[0m \u001b[0my\u001b[0m\u001b[0;34m)\u001b[0m\u001b[0;34m\u001b[0m\u001b[0;34m\u001b[0m\u001b[0m\n\u001b[0m\u001b[1;32m      6\u001b[0m \u001b[0;34m\u001b[0m\u001b[0m\n\u001b[1;32m      7\u001b[0m \u001b[0;31m# Show the Gradent Descent report\u001b[0m\u001b[0;34m\u001b[0m\u001b[0;34m\u001b[0m\u001b[0;34m\u001b[0m\u001b[0m\n",
            "\u001b[0;32m<ipython-input-19-4e0e76b84961>\u001b[0m in \u001b[0;36mgradient_descent\u001b[0;34m(theta, alpha, X, y)\u001b[0m\n\u001b[1;32m     24\u001b[0m         \u001b[0;31m# Try a prediction with current theta values.\u001b[0m\u001b[0;34m\u001b[0m\u001b[0;34m\u001b[0m\u001b[0;34m\u001b[0m\u001b[0m\n\u001b[1;32m     25\u001b[0m         \u001b[0;31m# y = h(x)\u001b[0m\u001b[0;34m\u001b[0m\u001b[0;34m\u001b[0m\u001b[0;34m\u001b[0m\u001b[0m\n\u001b[0;32m---> 26\u001b[0;31m         \u001b[0mpredictions\u001b[0m \u001b[0;34m=\u001b[0m \u001b[0mhypothesis\u001b[0m\u001b[0;34m(\u001b[0m\u001b[0mtheta\u001b[0m\u001b[0;34m,\u001b[0m \u001b[0mX\u001b[0m\u001b[0;34m)\u001b[0m\u001b[0;34m\u001b[0m\u001b[0;34m\u001b[0m\u001b[0m\n\u001b[0m\u001b[1;32m     27\u001b[0m \u001b[0;34m\u001b[0m\u001b[0m\n\u001b[1;32m     28\u001b[0m         \u001b[0;31m# Compute the cost i.e. J(theta0, theta1)\u001b[0m\u001b[0;34m\u001b[0m\u001b[0;34m\u001b[0m\u001b[0;34m\u001b[0m\u001b[0m\n",
            "\u001b[0;32m<ipython-input-2-882989f9300a>\u001b[0m in \u001b[0;36mhypothesis\u001b[0;34m(theta, X)\u001b[0m\n\u001b[1;32m     29\u001b[0m         \u001b[0mvector_feature\u001b[0m \u001b[0;34m=\u001b[0m \u001b[0mnp\u001b[0m\u001b[0;34m.\u001b[0m\u001b[0marray\u001b[0m\u001b[0;34m(\u001b[0m\u001b[0mfeature_value\u001b[0m\u001b[0;34m)\u001b[0m\u001b[0;34m\u001b[0m\u001b[0;34m\u001b[0m\u001b[0m\n\u001b[1;32m     30\u001b[0m \u001b[0;34m\u001b[0m\u001b[0m\n\u001b[0;32m---> 31\u001b[0;31m         \u001b[0mx\u001b[0m \u001b[0;34m=\u001b[0m \u001b[0mnp\u001b[0m\u001b[0;34m.\u001b[0m\u001b[0mconcatenate\u001b[0m\u001b[0;34m(\u001b[0m\u001b[0;34m(\u001b[0m\u001b[0mvector_one\u001b[0m\u001b[0;34m,\u001b[0m \u001b[0mvector_feature\u001b[0m\u001b[0;34m)\u001b[0m\u001b[0;34m,\u001b[0m \u001b[0maxis\u001b[0m \u001b[0;34m=\u001b[0m \u001b[0;36m0\u001b[0m\u001b[0;34m)\u001b[0m\u001b[0;34m\u001b[0m\u001b[0;34m\u001b[0m\u001b[0m\n\u001b[0m\u001b[1;32m     32\u001b[0m \u001b[0;34m\u001b[0m\u001b[0m\n\u001b[1;32m     33\u001b[0m         \u001b[0;31m# Finally, we multiply the vector x with our two theta values and\u001b[0m\u001b[0;34m\u001b[0m\u001b[0;34m\u001b[0m\u001b[0;34m\u001b[0m\u001b[0m\n",
            "\u001b[0;31mKeyboardInterrupt\u001b[0m: "
          ]
        }
      ]
    },
    {
      "cell_type": "code",
      "metadata": {
        "id": "zP3l3FXScCQs",
        "colab_type": "code",
        "outputId": "b4b1df92-2dd2-4004-df8b-fe8ae7b3831e",
        "colab": {
          "base_uri": "https://localhost:8080/",
          "height": 291
        }
      },
      "source": [
        "# Execute our hypothesis with our optimal theta values.\n",
        "training_predictions = hypothesis(theta, X)\n",
        "\n",
        "# Plot the results.\n",
        "plt.plot(X,y,'b.')\n",
        "plt.xlabel(\"$x$\", fontsize=18)\n",
        "plt.ylabel(\"$y$\", rotation=0, fontsize=18)\n",
        "plt.plot(X, training_predictions)\n",
        "_ =plt.axis([0,2,0,15])"
      ],
      "execution_count": 98,
      "outputs": [
        {
          "output_type": "display_data",
          "data": {
            "image/png": "[encoded data removed]",
            "text/plain": [
              "<Figure size 432x288 with 1 Axes>"
            ]
          },
          "metadata": {
            "tags": []
          }
        }
      ]
    }
  ]
}