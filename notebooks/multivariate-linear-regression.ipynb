{
  "nbformat": 4,
  "nbformat_minor": 0,
  "metadata": {
    "colab": {
      "name": "multivariate-linear-regression.ipynb",
      "version": "0.3.2",
      "provenance": [],
      "include_colab_link": true
    },
    "kernelspec": {
      "name": "python3",
      "display_name": "Python 3"
    }
  },
  "cells": [
    {
      "cell_type": "markdown",
      "metadata": {
        "id": "view-in-github",
        "colab_type": "text"
      },
      "source": [
        "<a href=\"https://colab.research.google.com/github/harperd/machine-learning/blob/master/notebooks/multivariate-linear-regression.ipynb\" target=\"_parent\"><img src=\"https://colab.research.google.com/assets/colab-badge.svg\" alt=\"Open In Colab\"/></a>"
      ]
    },
    {
      "cell_type": "markdown",
      "metadata": {
        "id": "l8r9NIzh1SdU",
        "colab_type": "text"
      },
      "source": [
        "# Multivariate Linear Regression\n",
        "\n",
        "Predict the price a house will sell for given the size of the house in sqft and the number of bedrooms."
      ]
    },
    {
      "cell_type": "code",
      "metadata": {
        "id": "X3jYKqME18ow",
        "colab_type": "code",
        "colab": {}
      },
      "source": [
        "# NumPy adds support for large, multi-dimensional arrays and matrices, along with a large collection \n",
        "# of high-level mathematical functions to operate on these arrays.\n",
        "import numpy as np\n",
        "\n",
        "# Matplotlib is a plotting library for the Python programming language and its numerical mathematics \n",
        "# extension NumPy. It provides an object-oriented API for embedding plots into applications using \n",
        "# general-purpose GUI toolkits like Tkinter, wxPython, Qt, or GTK+.\n",
        "import matplotlib.pyplot as plt\n",
        "\n",
        "# SciPy (pronounced “Sigh Pie”) is a Python-based ecosystem of open-source \n",
        "# software for mathematics, science, and engineering\n",
        "from scipy import stats\n",
        "\n",
        "# Allow saving our graphs in the notebook\n",
        "%matplotlib inline\n",
        "\n",
        "# Pandas is a software library for data manipulation and analysis. In particular, it offers data \n",
        "# structures and operations for manipulating numerical tables and time series.\n",
        "import pandas as pd\n",
        "\n",
        "from mpl_toolkits.mplot3d import Axes3D"
      ],
      "execution_count": 0,
      "outputs": []
    },
    {
      "cell_type": "code",
      "metadata": {
        "id": "VsZAD3R31-bz",
        "colab_type": "code",
        "outputId": "8662ba91-d7cd-415f-901a-0a88afb90c70",
        "colab": {
          "base_uri": "https://localhost:8080/",
          "height": 70
        }
      },
      "source": [
        "df_raw = pd.read_csv(\n",
        "    'https://raw.githubusercontent.com/harperd/machine-learning/master/data/ex1data2.csv',\n",
        "    header = None,\n",
        "    names=[ 'Size', 'Bedrooms', 'Price' ])\n",
        "%time print(f'{len(df_raw.index):,} rows read.')"
      ],
      "execution_count": 0,
      "outputs": [
        {
          "output_type": "stream",
          "text": [
            "47 rows read.\n",
            "CPU times: user 125 µs, sys: 24 µs, total: 149 µs\n",
            "Wall time: 155 µs\n"
          ],
          "name": "stdout"
        }
      ]
    },
    {
      "cell_type": "code",
      "metadata": {
        "id": "T2rGD-OS2tm8",
        "colab_type": "code",
        "outputId": "a5140f5c-45fa-4948-c5cd-4e7e4692b1f4",
        "colab": {
          "base_uri": "https://localhost:8080/",
          "height": 195
        }
      },
      "source": [
        "df_raw.head()"
      ],
      "execution_count": 0,
      "outputs": [
        {
          "output_type": "execute_result",
          "data": {
            "text/html": [
              "<div>\n",
              "<style scoped>\n",
              "    .dataframe tbody tr th:only-of-type {\n",
              "        vertical-align: middle;\n",
              "    }\n",
              "\n",
              "    .dataframe tbody tr th {\n",
              "        vertical-align: top;\n",
              "    }\n",
              "\n",
              "    .dataframe thead th {\n",
              "        text-align: right;\n",
              "    }\n",
              "</style>\n",
              "<table border=\"1\" class=\"dataframe\">\n",
              "  <thead>\n",
              "    <tr style=\"text-align: right;\">\n",
              "      <th></th>\n",
              "      <th>Size</th>\n",
              "      <th>Bedrooms</th>\n",
              "      <th>Price</th>\n",
              "    </tr>\n",
              "  </thead>\n",
              "  <tbody>\n",
              "    <tr>\n",
              "      <th>0</th>\n",
              "      <td>2104</td>\n",
              "      <td>3</td>\n",
              "      <td>399900</td>\n",
              "    </tr>\n",
              "    <tr>\n",
              "      <th>1</th>\n",
              "      <td>1600</td>\n",
              "      <td>3</td>\n",
              "      <td>329900</td>\n",
              "    </tr>\n",
              "    <tr>\n",
              "      <th>2</th>\n",
              "      <td>2400</td>\n",
              "      <td>3</td>\n",
              "      <td>369000</td>\n",
              "    </tr>\n",
              "    <tr>\n",
              "      <th>3</th>\n",
              "      <td>1416</td>\n",
              "      <td>2</td>\n",
              "      <td>232000</td>\n",
              "    </tr>\n",
              "    <tr>\n",
              "      <th>4</th>\n",
              "      <td>3000</td>\n",
              "      <td>4</td>\n",
              "      <td>539900</td>\n",
              "    </tr>\n",
              "  </tbody>\n",
              "</table>\n",
              "</div>"
            ],
            "text/plain": [
              "   Size  Bedrooms   Price\n",
              "0  2104         3  399900\n",
              "1  1600         3  329900\n",
              "2  2400         3  369000\n",
              "3  1416         2  232000\n",
              "4  3000         4  539900"
            ]
          },
          "metadata": {
            "tags": []
          },
          "execution_count": 3
        }
      ]
    },
    {
      "cell_type": "markdown",
      "metadata": {
        "id": "L2m1DZ444mdM",
        "colab_type": "text"
      },
      "source": [
        "Notice that the scale of the values for each variable is vastly different. A house will typically have 2-5 bedrooms but may have anywhere from hundreds to thousands of square feet. If we were to run our regression algorithm on this data as-is, the \"size\" variable would be weighted too heavily and would end up dwarfing any contributions from the \"number of bedrooms\" feature. To fix this, we can normlize our data by Z-Scoring."
      ]
    },
    {
      "cell_type": "code",
      "metadata": {
        "id": "e9CuOqKe3Zfc",
        "colab_type": "code",
        "outputId": "9b6d34c6-a046-42ef-cc9a-530e1e008a06",
        "colab": {
          "base_uri": "https://localhost:8080/",
          "height": 195
        }
      },
      "source": [
        "df_norm = pd.DataFrame(data = stats.zscore(df_raw), columns = df_raw.columns)\n",
        "df_norm.head()"
      ],
      "execution_count": 0,
      "outputs": [
        {
          "output_type": "execute_result",
          "data": {
            "text/html": [
              "<div>\n",
              "<style scoped>\n",
              "    .dataframe tbody tr th:only-of-type {\n",
              "        vertical-align: middle;\n",
              "    }\n",
              "\n",
              "    .dataframe tbody tr th {\n",
              "        vertical-align: top;\n",
              "    }\n",
              "\n",
              "    .dataframe thead th {\n",
              "        text-align: right;\n",
              "    }\n",
              "</style>\n",
              "<table border=\"1\" class=\"dataframe\">\n",
              "  <thead>\n",
              "    <tr style=\"text-align: right;\">\n",
              "      <th></th>\n",
              "      <th>Size</th>\n",
              "      <th>Bedrooms</th>\n",
              "      <th>Price</th>\n",
              "    </tr>\n",
              "  </thead>\n",
              "  <tbody>\n",
              "    <tr>\n",
              "      <th>0</th>\n",
              "      <td>0.131415</td>\n",
              "      <td>-0.226093</td>\n",
              "      <td>0.480890</td>\n",
              "    </tr>\n",
              "    <tr>\n",
              "      <th>1</th>\n",
              "      <td>-0.509641</td>\n",
              "      <td>-0.226093</td>\n",
              "      <td>-0.084983</td>\n",
              "    </tr>\n",
              "    <tr>\n",
              "      <th>2</th>\n",
              "      <td>0.507909</td>\n",
              "      <td>-0.226093</td>\n",
              "      <td>0.231097</td>\n",
              "    </tr>\n",
              "    <tr>\n",
              "      <th>3</th>\n",
              "      <td>-0.743677</td>\n",
              "      <td>-1.554392</td>\n",
              "      <td>-0.876398</td>\n",
              "    </tr>\n",
              "    <tr>\n",
              "      <th>4</th>\n",
              "      <td>1.271071</td>\n",
              "      <td>1.102205</td>\n",
              "      <td>1.612637</td>\n",
              "    </tr>\n",
              "  </tbody>\n",
              "</table>\n",
              "</div>"
            ],
            "text/plain": [
              "       Size  Bedrooms     Price\n",
              "0  0.131415 -0.226093  0.480890\n",
              "1 -0.509641 -0.226093 -0.084983\n",
              "2  0.507909 -0.226093  0.231097\n",
              "3 -0.743677 -1.554392 -0.876398\n",
              "4  1.271071  1.102205  1.612637"
            ]
          },
          "metadata": {
            "tags": []
          },
          "execution_count": 4
        }
      ]
    },
    {
      "cell_type": "code",
      "metadata": {
        "id": "8OaoD64h8KGL",
        "colab_type": "code",
        "outputId": "56b97560-12d5-4ee7-8690-29557108f1b8",
        "colab": {
          "base_uri": "https://localhost:8080/",
          "height": 285
        }
      },
      "source": [
        "pd.plotting.scatter_matrix(df_norm)\n",
        "plt.show()"
      ],
      "execution_count": 0,
      "outputs": [
        {
          "output_type": "display_data",
          "data": {
            "image/png": "[encoded data removed]",
            "text/plain": [
              "<Figure size 432x288 with 9 Axes>"
            ]
          },
          "metadata": {
            "tags": []
          }
        }
      ]
    },
    {
      "cell_type": "markdown",
      "metadata": {
        "id": "m49NpPAF9LuX",
        "colab_type": "text"
      },
      "source": [
        "Looking at the Scatter Matrix we see a high correlation between price and size of house but not between the number of bedrooms and price. This tells us that the number of bedrooms will not have a significant effect on price."
      ]
    },
    {
      "cell_type": "code",
      "metadata": {
        "id": "ucLcZGc08f1K",
        "colab_type": "code",
        "outputId": "c97f49ca-bb64-43c0-8727-3197fe23aeb5",
        "colab": {
          "base_uri": "https://localhost:8080/",
          "height": 195
        }
      },
      "source": [
        "# Append a bias column to the beginning\n",
        "# of the DataFrame. This will be used when computing\n",
        "# the hypothesis using matrix multiplication.\n",
        "if 'Bias' not in df_norm:\n",
        "  # Insert new column at index 0, with name Bias and\n",
        "  # a value of all ones.\n",
        "  df_norm.insert(0, 'Bias', 1)\n",
        "  \n",
        "df_norm.head()"
      ],
      "execution_count": 0,
      "outputs": [
        {
          "output_type": "execute_result",
          "data": {
            "text/html": [
              "<div>\n",
              "<style scoped>\n",
              "    .dataframe tbody tr th:only-of-type {\n",
              "        vertical-align: middle;\n",
              "    }\n",
              "\n",
              "    .dataframe tbody tr th {\n",
              "        vertical-align: top;\n",
              "    }\n",
              "\n",
              "    .dataframe thead th {\n",
              "        text-align: right;\n",
              "    }\n",
              "</style>\n",
              "<table border=\"1\" class=\"dataframe\">\n",
              "  <thead>\n",
              "    <tr style=\"text-align: right;\">\n",
              "      <th></th>\n",
              "      <th>Bias</th>\n",
              "      <th>Size</th>\n",
              "      <th>Bedrooms</th>\n",
              "      <th>Price</th>\n",
              "    </tr>\n",
              "  </thead>\n",
              "  <tbody>\n",
              "    <tr>\n",
              "      <th>0</th>\n",
              "      <td>1</td>\n",
              "      <td>0.131415</td>\n",
              "      <td>-0.226093</td>\n",
              "      <td>0.480890</td>\n",
              "    </tr>\n",
              "    <tr>\n",
              "      <th>1</th>\n",
              "      <td>1</td>\n",
              "      <td>-0.509641</td>\n",
              "      <td>-0.226093</td>\n",
              "      <td>-0.084983</td>\n",
              "    </tr>\n",
              "    <tr>\n",
              "      <th>2</th>\n",
              "      <td>1</td>\n",
              "      <td>0.507909</td>\n",
              "      <td>-0.226093</td>\n",
              "      <td>0.231097</td>\n",
              "    </tr>\n",
              "    <tr>\n",
              "      <th>3</th>\n",
              "      <td>1</td>\n",
              "      <td>-0.743677</td>\n",
              "      <td>-1.554392</td>\n",
              "      <td>-0.876398</td>\n",
              "    </tr>\n",
              "    <tr>\n",
              "      <th>4</th>\n",
              "      <td>1</td>\n",
              "      <td>1.271071</td>\n",
              "      <td>1.102205</td>\n",
              "      <td>1.612637</td>\n",
              "    </tr>\n",
              "  </tbody>\n",
              "</table>\n",
              "</div>"
            ],
            "text/plain": [
              "   Bias      Size  Bedrooms     Price\n",
              "0     1  0.131415 -0.226093  0.480890\n",
              "1     1 -0.509641 -0.226093 -0.084983\n",
              "2     1  0.507909 -0.226093  0.231097\n",
              "3     1 -0.743677 -1.554392 -0.876398\n",
              "4     1  1.271071  1.102205  1.612637"
            ]
          },
          "metadata": {
            "tags": []
          },
          "execution_count": 6
        }
      ]
    },
    {
      "cell_type": "markdown",
      "metadata": {
        "id": "b4weH4Sx801Z",
        "colab_type": "text"
      },
      "source": [
        "Create matrices for our training set (X), our labels (y) and initial theta values (0, 0). These matrices will be used for our calculations."
      ]
    },
    {
      "cell_type": "code",
      "metadata": {
        "id": "0aj2a1pW8tQD",
        "colab_type": "code",
        "outputId": "542acc4e-0e34-4cea-80a1-de7011089ec4",
        "colab": {
          "base_uri": "https://localhost:8080/",
          "height": 34
        }
      },
      "source": [
        "# Set X (independent/training variable) \n",
        "# and y (dependent/target variable)\n",
        "cols = df_norm.shape[1]\n",
        "\n",
        "# Get all rows and the first three columns of our DataFrame and assign to X.\n",
        "X = df_norm.iloc[:, 0:cols - 1]\n",
        "\n",
        "# Get the last column of our DataFrame and assign to y.\n",
        "y = df_norm.iloc[:, cols - 1:cols]\n",
        "\n",
        "# Convert from DataFrames to numpy matrices for easier\n",
        "# calculations.\n",
        "X = np.matrix(X.values)\n",
        "y = np.matrix(y.values)\n",
        "theta = np.matrix(np.array([ 0, 0, 0 ]))\n",
        "\n",
        "X.shape, theta.shape, y.shape"
      ],
      "execution_count": 0,
      "outputs": [
        {
          "output_type": "execute_result",
          "data": {
            "text/plain": [
              "((47, 3), (1, 3), (47, 1))"
            ]
          },
          "metadata": {
            "tags": []
          },
          "execution_count": 7
        }
      ]
    },
    {
      "cell_type": "code",
      "metadata": {
        "id": "9RjJeBtx9h-x",
        "colab_type": "code",
        "colab": {}
      },
      "source": [
        " def compute_cost(X, y, theta):\n",
        "  # h(x)\n",
        "  # Calculate predictions, h(x), with current theta values.\n",
        "  # Here we are doing matrix multiplication as \n",
        "  # X multiplied by theta transposed.\n",
        "  predictions = X * theta.T\n",
        "\n",
        "  # h(x) - y\n",
        "  # Get the error which tells us how far off our\n",
        "  # preditions are from the dependent variables.\n",
        "  error = predictions - y\n",
        "  \n",
        "  # sum( (h(x) - y)^2 )\n",
        "  # Get the sum square error.\n",
        "  sum_square_error = np.sum(np.square(error))\n",
        "  \n",
        "  # 1/2m * sum( (h(x) - y)^2 )\n",
        "  # Compute the cost.\n",
        "  m = len(y)\n",
        "  cost = sum_square_error / ( 2 * m )\n",
        "  \n",
        "  return cost"
      ],
      "execution_count": 0,
      "outputs": []
    },
    {
      "cell_type": "code",
      "metadata": {
        "id": "Md4_vD9J9nnT",
        "colab_type": "code",
        "outputId": "674af787-ff14-4d45-c1aa-c1c4c37bed36",
        "colab": {
          "base_uri": "https://localhost:8080/",
          "height": 70
        }
      },
      "source": [
        "def gradient_descent(X, y, theta, alpha):\n",
        "    m = y.shape[0]\n",
        "    cost_history = []\n",
        "    theta_history = []\n",
        "    cost = 0\n",
        "    iterations = 1\n",
        "    converged = False\n",
        "    \n",
        "    # Keep calculating new theta values until we have converged\n",
        "    # at the minimum.\n",
        "    while(not converged):\n",
        "      # Calculate predictions, h(x), with current theta values.\n",
        "      predictions = X * theta.T\n",
        "      \n",
        "      # Get the error which tells us how far off we are from the\n",
        "      # actual/dependent variables.\n",
        "      error = predictions - y\n",
        "      \n",
        "      # Calculate the gradient\n",
        "      gradient = ( error.T * X ) / m \n",
        "      \n",
        "      # Get our new theta values\n",
        "      theta = theta - ( alpha * gradient )\n",
        "      \n",
        "      # Compute the cost: J(theta0, theta1, theta2)\n",
        "      cost = compute_cost(X, y, theta)\n",
        "\n",
        "      # Check for convergence.\n",
        "      # If the previous cost is the same as the current cost then\n",
        "      # we have converged to the minimum.\n",
        "      if (iterations > 1 and cost_history[-1] == cost):\n",
        "        converged = True\n",
        "      else:\n",
        "        # Increase the number of iterations\n",
        "        iterations = iterations + 1\n",
        "\n",
        "      if(not converged):\n",
        "        # Track our cost history. We will graph this to see how cost\n",
        "        # decreases with the number of iterations.\n",
        "        cost_history.append(cost)\n",
        "        theta_history.append(np.squeeze(np.asarray(theta)))\n",
        "      \n",
        "    return theta_history, cost_history, iterations\n",
        "\n",
        "thetas, costs, iterations = gradient_descent(X, y, theta, alpha = 0.01)\n",
        "\n",
        "print(f'Optimal theta values..: {thetas[-1]}')\n",
        "print(f'Minimum Cost..........: {costs[-1]}')\n",
        "print(f'Iterations............: {iterations:,}')"
      ],
      "execution_count": 0,
      "outputs": [
        {
          "output_type": "stream",
          "text": [
            "Optimal theta values..: [-8.32194833e-17  8.84765871e-01 -5.31787029e-02]\n",
            "Minimum Cost..........: 0.13352749098554886\n",
            "Iterations............: 3,449\n"
          ],
          "name": "stdout"
        }
      ]
    },
    {
      "cell_type": "code",
      "metadata": {
        "id": "Fbb2Kpyx-vuP",
        "colab_type": "code",
        "outputId": "a7a2dc5f-af55-4afc-a8e0-22ea13f1bfbb",
        "colab": {
          "base_uri": "https://localhost:8080/",
          "height": 355
        }
      },
      "source": [
        "def plot_cost(cost_history):\n",
        "  fig, ax = plt.subplots(figsize=(10, 5))\n",
        "  ax.plot(cost_history, 'r')\n",
        "  ax.set_xlabel('Iterations')\n",
        "  ax.set_ylabel(r'$J(\\theta_0,\\theta_1)$')\n",
        "  ax.set_title('Cost vs. Iterations', fontsize=20)\n",
        "  \n",
        "plot_cost(costs)"
      ],
      "execution_count": 0,
      "outputs": [
        {
          "output_type": "display_data",
          "data": {
            "image/png": "[encoded data removed]",
            "text/plain": [
              "<Figure size 720x360 with 1 Axes>"
            ]
          },
          "metadata": {
            "tags": []
          }
        }
      ]
    },
    {
      "cell_type": "markdown",
      "metadata": {
        "id": "LkrrUYRH_gd_",
        "colab_type": "text"
      },
      "source": [
        "The cost, or error of the solution, dropped with each sucessive iteration until it bottomed out. This is exactly what we would expect to happen. It looks like our algorithm worked."
      ]
    },
    {
      "cell_type": "code",
      "metadata": {
        "id": "BB81cTqIAbAy",
        "colab_type": "code",
        "outputId": "cb51cbf4-c978-4e19-dbc9-d7d0f8b1b3cd",
        "colab": {
          "base_uri": "https://localhost:8080/",
          "height": 70
        }
      },
      "source": [
        "def zscore(scalar, mean, std):\n",
        "  return ( scalar - mean) / std\n",
        "\n",
        "def zscore_inv(scalar, mean, std):\n",
        "  return ( scalar * std ) + mean\n",
        "\n",
        "def predict(size, bedrooms, theta):\n",
        "  size_z = zscore(size, df_raw.mean().Size, df_raw.std().Size)\n",
        "  bedrooms_z = zscore(bedrooms, df_raw.mean().Bedrooms, df_raw.std().Bedrooms)\n",
        "  x = np.array([1, size_z, bedrooms_z])\n",
        "  prediction = np.dot(np.array(theta).transpose(), x)\n",
        "  prediction_inv = zscore_inv(prediction, df_raw.mean().Price, df_raw.std().Price)\n",
        "  return int(round(prediction_inv, 0))\n",
        "\n",
        "def make_prediction(size, bedrooms, theta):\n",
        "  prediction = predict(size, bedrooms, theta)\n",
        "  print(f'For a {size:,} sqft house with {bedrooms} bedrooms, we predict a price of ${prediction:,}.')\n",
        "        \n",
        "make_prediction(size = 4000, bedrooms = 5, theta = thetas[-1])\n",
        "make_prediction(size = 2000, bedrooms = 3, theta = thetas[-1])\n",
        "make_prediction(size = 1500, bedrooms = 2, theta = thetas[-1])"
      ],
      "execution_count": 0,
      "outputs": [
        {
          "output_type": "stream",
          "text": [
            "For a 4,000 sqft house with 5 bedrooms, we predict a price of $602,751.\n",
            "For a 2,000 sqft house with 3 bedrooms, we predict a price of $341,805.\n",
            "For a 1,500 sqft house with 2 bedrooms, we predict a price of $280,938.\n"
          ],
          "name": "stdout"
        }
      ]
    }
  ]
}